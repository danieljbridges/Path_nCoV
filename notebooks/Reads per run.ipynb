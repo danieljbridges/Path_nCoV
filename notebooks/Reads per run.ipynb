{
 "cells": [
  {
   "cell_type": "markdown",
   "metadata": {},
   "source": [
    "## Analyse number of reads per run"
   ]
  },
  {
   "cell_type": "code",
   "execution_count": 83,
   "metadata": {},
   "outputs": [],
   "source": [
    "import os\n",
    "import sys\n",
    "import subprocess\n",
    "import pandas as pd\n",
    "import numpy as np\n",
    "import re"
   ]
  },
  {
   "cell_type": "markdown",
   "metadata": {},
   "source": [
    "## Settings"
   ]
  },
  {
   "cell_type": "code",
   "execution_count": 94,
   "metadata": {},
   "outputs": [],
   "source": [
    "#List location of a run\n",
    "pass_dir=\"/media/dan/Master/WGS/TEST/C1/fastq/\"\n",
    "run_dir = os.listdir(pass_dir)"
   ]
  },
  {
   "cell_type": "code",
   "execution_count": 95,
   "metadata": {},
   "outputs": [],
   "source": [
    "#Get all of the reads from each of the raw data folders and count number of entries\n",
    "counts = []\n",
    "barcode = []\n",
    "for ff in run_dir :\n",
    "    rdir = os.path.join(base_dir, ff)\n",
    "    if os.path.isdir(rdir):\n",
    "        #Bash command to count lines in all fastq files\n",
    "        cmd = \"expr $(cat \"+rdir+\"/*.fastq | wc -l) / 4\"\n",
    "        count=subprocess.getoutput(cmd)\n",
    "        ff=re.sub(\"barcode\",'',ff)\n",
    "        ff=re.sub(\"unclassified\",\"00\",ff)\n",
    "        barcode.append(ff)\n",
    "        counts.append(count)\n",
    "        "
   ]
  },
  {
   "cell_type": "code",
   "execution_count": 98,
   "metadata": {},
   "outputs": [
    {
     "name": "stdout",
     "output_type": "stream",
     "text": [
      "  Barcode  Passed\n",
      "1      00  178114\n",
      "3      01  117995\n",
      "2      02  104544\n",
      "4      03      13\n",
      "0      04   63570\n"
     ]
    }
   ],
   "source": [
    "#Put the data into a df\n",
    "dfcount = (pd.DataFrame({\"Barcode\": barcode, \"Passed\":counts})\n",
    "           .sort_values(\"Barcode\")\n",
    "          )\n",
    "print(dfcount)\n"
   ]
  },
  {
   "cell_type": "code",
   "execution_count": 99,
   "metadata": {},
   "outputs": [
    {
     "data": {
      "text/plain": [
       "'63246'"
      ]
     },
     "execution_count": 99,
     "metadata": {},
     "output_type": "execute_result"
    }
   ],
   "source": [
    "#Identify all of the fails\n",
    "fail_dir=\"/media/dan/Master/WGS/1_Raw/C1_2020-09-09/fastq_fail\"\n",
    "cmd = \"expr $(cat \"+fail_dir+\"/*.fastq | wc -l) / 4\"\n",
    "subprocess.getoutput(cmd)"
   ]
  },
  {
   "cell_type": "code",
   "execution_count": 102,
   "metadata": {},
   "outputs": [
    {
     "ename": "TypeError",
     "evalue": "'method' object is not subscriptable",
     "output_type": "error",
     "traceback": [
      "\u001b[0;31m---------------------------------------------------------------------------\u001b[0m",
      "\u001b[0;31mTypeError\u001b[0m                                 Traceback (most recent call last)",
      "\u001b[0;32m<ipython-input-102-b848a232d5a9>\u001b[0m in \u001b[0;36m<module>\u001b[0;34m\u001b[0m\n\u001b[0;32m----> 1\u001b[0;31m \u001b[0mdfcount\u001b[0m\u001b[0;34m.\u001b[0m\u001b[0mgroupby\u001b[0m\u001b[0;34m[\u001b[0m\u001b[0;34m\"Passed\"\u001b[0m\u001b[0;34m]\u001b[0m\u001b[0;34m.\u001b[0m\u001b[0msum\u001b[0m\u001b[0;34m(\u001b[0m\u001b[0;34m)\u001b[0m\u001b[0;34m\u001b[0m\u001b[0;34m\u001b[0m\u001b[0m\n\u001b[0m",
      "\u001b[0;31mTypeError\u001b[0m: 'method' object is not subscriptable"
     ]
    }
   ],
   "source": [
    "dfcount.groupby[\"Passed\"].sum()"
   ]
  },
  {
   "cell_type": "code",
   "execution_count": null,
   "metadata": {},
   "outputs": [],
   "source": []
  },
  {
   "cell_type": "code",
   "execution_count": null,
   "metadata": {},
   "outputs": [],
   "source": []
  },
  {
   "cell_type": "code",
   "execution_count": null,
   "metadata": {},
   "outputs": [],
   "source": [
    "        df = (pd.DataFrame({\"position\": positions, \"error_prob\": error_probs})\n",
    "              .groupby(\"position\")\n",
    "              .mean()\n",
    "              .reset_index()\n",
    "              .sort_values(\"position\")\n",
    "             )"
   ]
  },
  {
   "cell_type": "code",
   "execution_count": null,
   "metadata": {},
   "outputs": [],
   "source": []
  },
  {
   "cell_type": "code",
   "execution_count": 68,
   "metadata": {},
   "outputs": [
    {
     "name": "stdout",
     "output_type": "stream",
     "text": [
      "['barcode04', 'unclassified', 'barcode02', 'barcode01', 'barcode03'] ['63570', '178114', '104544', '117995', '13']\n"
     ]
    }
   ],
   "source": [
    "print(barcode, counts)"
   ]
  },
  {
   "cell_type": "code",
   "execution_count": null,
   "metadata": {},
   "outputs": [],
   "source": []
  },
  {
   "cell_type": "code",
   "execution_count": null,
   "metadata": {},
   "outputs": [],
   "source": [
    "We could count:\n",
    "    Number for each barcode\n",
    "        Number that passed\n",
    "        Number that failed\n",
    "    Number "
   ]
  },
  {
   "cell_type": "code",
   "execution_count": null,
   "metadata": {},
   "outputs": [],
   "source": []
  }
 ],
 "metadata": {
  "kernelspec": {
   "display_name": "Python 3",
   "language": "python",
   "name": "python3"
  },
  "language_info": {
   "codemirror_mode": {
    "name": "ipython",
    "version": 3
   },
   "file_extension": ".py",
   "mimetype": "text/x-python",
   "name": "python",
   "nbconvert_exporter": "python",
   "pygments_lexer": "ipython3",
   "version": "3.6.10"
  }
 },
 "nbformat": 4,
 "nbformat_minor": 4
}
