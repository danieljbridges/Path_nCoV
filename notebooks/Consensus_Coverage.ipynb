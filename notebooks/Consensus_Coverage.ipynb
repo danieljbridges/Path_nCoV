{
 "cells": [
  {
   "cell_type": "markdown",
   "metadata": {},
   "source": [
    "# Assess the consensus genome coverage per sample"
   ]
  },
  {
   "cell_type": "code",
   "execution_count": 2,
   "metadata": {},
   "outputs": [],
   "source": [
    "import os\n",
    "import sys\n",
    "\n",
    "import pandas as pd\n",
    "import numpy as np"
   ]
  },
  {
   "cell_type": "code",
   "execution_count": 3,
   "metadata": {},
   "outputs": [],
   "source": [
    "dir_base = os.path.expanduser(\"~/WGS/analyses/Coverage/\")\n",
    "fa_path = dir_base+\"Samples.fasta\""
   ]
  },
  {
   "cell_type": "code",
   "execution_count": null,
   "metadata": {},
   "outputs": [],
   "source": []
  },
  {
   "cell_type": "code",
   "execution_count": 4,
   "metadata": {},
   "outputs": [],
   "source": [
    "#Open up the fasta file and read in the data\n",
    "with open(fa_path, \"r\") as fa:\n",
    "    headers = []\n",
    "    sequences = []\n",
    "    i=-1\n",
    "    nt=\"\"\n",
    "    for line in fa:\n",
    "        if line[0] == \">\":\n",
    "            headers.append(line.strip(\">\\n'\")) #Add to header\n",
    "            sequences.append(i) #Add new entry to sequences font to replace\n",
    "            i += 1 #Increment the count\n",
    "            nt = \"\" #Reset nt\n",
    "        else :\n",
    "            #Concatenate sequences\n",
    "            nt = nt+line.rstrip()\n",
    "            #Add sequence to the correct position\n",
    "            sequences[i]=nt\n",
    "    "
   ]
  },
  {
   "cell_type": "markdown",
   "metadata": {},
   "source": [
    "## Analyse the information"
   ]
  },
  {
   "cell_type": "code",
   "execution_count": 8,
   "metadata": {},
   "outputs": [
    {
     "name": "stdout",
     "output_type": "stream",
     "text": [
      "Sample\tLength\t#N\tCoverage\n",
      "111\t29903\t167\t0.9944152760592583\n",
      "111CleanLoCost\t29903\t176\t0.9941143029127513\n",
      "111CleanStd\t29903\t177\t0.9940808614520282\n",
      "111NoCleanLoCost\t29903\t25641\t0.14252750560144467\n",
      "111NoCleanStd\t29903\t26206\t0.1236330802929472\n",
      "1241\t29903\t167\t0.9944152760592583\n",
      "125\t29903\t167\t0.9944152760592583\n",
      "125_LoCost\t29903\t889\t0.9702705414172491\n",
      "128\t29903\t18004\t0.39791994114302914\n",
      "128_LoCost\t29903\t29902\t3.344146072300438e-05\n",
      "1324\t29903\t889\t0.9702705414172491\n",
      "140\t29903\t167\t0.9944152760592583\n",
      "1457\t29903\t27063\t0.09497374845333244\n",
      "147\t29903\t1500\t0.9498378089154934\n",
      "1523\t29903\t167\t0.9944152760592583\n",
      "158\t29903\t12138\t0.5940875497441728\n",
      "159\t29903\t167\t0.9944152760592583\n",
      "1594\t29903\t27070\t0.0947396582282714\n",
      "17192\t29903\t889\t0.9702705414172491\n",
      "18300\t29903\t889\t0.9702705414172491\n",
      "18568\t29903\t167\t0.9944152760592583\n",
      "19259\t29903\t3384\t0.8868340969133531\n",
      "19473\t29903\t167\t0.9944152760592583\n",
      "20130\t29903\t167\t0.9944152760592583\n",
      "20131\t29903\t167\t0.9944152760592583\n",
      "20637\t29903\t167\t0.9944152760592583\n",
      "21448\t29903\t167\t0.9944152760592583\n",
      "21454\t29903\t9025\t0.6981908169748855\n",
      "21484\t29903\t167\t0.9944152760592583\n",
      "223\t29903\t167\t0.9944152760592583\n",
      "22466\t29903\t167\t0.9944152760592583\n",
      "228\t29903\t167\t0.9944152760592583\n",
      "229\t29903\t167\t0.9944152760592583\n",
      "230\t29903\t1531\t0.9488011236330803\n",
      "23158\t29903\t169\t0.9943483931378123\n",
      "23161\t29903\t169\t0.9943483931378123\n",
      "23199\t29903\t167\t0.9944152760592583\n",
      "23276\t29903\t167\t0.9944152760592583\n",
      "23305\t29903\t167\t0.9944152760592583\n",
      "23629\t29900\t1645\t0.9449832775919732\n",
      "23791\t29903\t889\t0.9702705414172491\n",
      "24215\t29903\t26281\t0.12112497073872187\n",
      "24445\t29903\t169\t0.9943483931378123\n",
      "24451\t29903\t13920\t0.5344948667357791\n",
      "24455\t29903\t17133\t0.42704745343276596\n",
      "24482\t29903\t167\t0.9944152760592583\n",
      "24486\t29903\t169\t0.9943483931378123\n",
      "24487\t29902\t869\t0.9709383987693131\n",
      "245\t29903\t167\t0.9944152760592583\n",
      "24503\t29903\t167\t0.9944152760592583\n",
      "24505\t29903\t169\t0.9943483931378123\n",
      "24737\t29903\t169\t0.9943483931378123\n",
      "24970\t29903\t26353\t0.11871718556666555\n",
      "25144\t29900\t168\t0.99438127090301\n",
      "25188\t29903\t167\t0.9944152760592583\n",
      "25267\t29903\t169\t0.9943483931378123\n",
      "25269\t29894\t167\t0.9944135947012779\n",
      "25601\t29900\t7872\t0.7367224080267558\n",
      "25711\t29900\t170\t0.994314381270903\n",
      "25740\t29903\t167\t0.9944152760592583\n",
      "25867\t29900\t167\t0.9944147157190636\n",
      "26052\t29903\t15372\t0.48593786576597664\n",
      "26663\t29903\t167\t0.9944152760592583\n",
      "27361\t29894\t167\t0.9944135947012779\n",
      "27616\t29903\t167\t0.9944152760592583\n",
      "27641\t29900\t167\t0.9944147157190636\n",
      "27651\t29902\t167\t0.9944150892916862\n",
      "27664\t29902\t167\t0.9944150892916862\n",
      "27674\t29903\t167\t0.9944152760592583\n",
      "28094\t29903\t169\t0.9943483931378123\n",
      "28420\t29901\t1494\t0.950035115882412\n",
      "29\t29903\t717\t0.9760224726616059\n",
      "29392\t29904\t20071\t0.32881888710540397\n",
      "29647\t29903\t167\t0.9944152760592583\n",
      "30084\t29903\t168\t0.9943818345985352\n",
      "30116\t29885\t167\t0.9944119123306007\n",
      "30265\t29903\t167\t0.9944152760592583\n",
      "319\t29903\t167\t0.9944152760592583\n",
      "337\t29903\t167\t0.9944152760592583\n",
      "349\t29903\t167\t0.9944152760592583\n",
      "40000\t29903\t168\t0.9943818345985352\n",
      "40001\t29887\t19951\t0.33245223675845686\n",
      "403\t29903\t167\t0.9944152760592583\n",
      "464\t29903\t167\t0.9944152760592583\n",
      "46769\t29903\t167\t0.9944152760592583\n",
      "67\t29903\t1943\t0.9350232418152025\n",
      "678\t29903\t4678\t0.8435608467377855\n",
      "833\t29903\t167\t0.9944152760592583\n",
      "9163\t29903\t167\t0.9944152760592583\n",
      "939\t29903\t168\t0.9943818345985352\n",
      "99\t29903\t167\t0.9944152760592583\n",
      "NTC\t29903\t29902\t3.344146072300438e-05\n",
      "gBlocks\t29903\t28849\t0.03524729960204662\n"
     ]
    }
   ],
   "source": [
    "i = 0\n",
    "print(\"Sample\\tLength\\t#N\\tCoverage\")\n",
    "for seq in sequences :\n",
    "    # Reset values\n",
    "    N = 0\n",
    "    coverage = 0\n",
    "    length = 0\n",
    "    \n",
    "    for char in seq: \n",
    "        if char == 'N':\n",
    "            N += 1 #Count number of N's\n",
    "    length=len(seq) #count number of NT\n",
    "    \n",
    "    coverage=(length-N)/length\n",
    "    print(headers[i]+\"\\t\"+str(length)+\"\\t\"+str(N)+\"\\t\"+str(coverage))\n",
    "    i += 1\n",
    "    \n",
    "    \n",
    "    "
   ]
  },
  {
   "cell_type": "code",
   "execution_count": 6,
   "metadata": {},
   "outputs": [
    {
     "name": "stdout",
     "output_type": "stream",
     "text": [
      "Number of lines: 93\n"
     ]
    }
   ],
   "source": [
    "print(\"Number of lines: %d\" % i)"
   ]
  },
  {
   "cell_type": "code",
   "execution_count": null,
   "metadata": {},
   "outputs": [],
   "source": []
  }
 ],
 "metadata": {
  "kernelspec": {
   "display_name": "Python 3",
   "language": "python",
   "name": "python3"
  },
  "language_info": {
   "codemirror_mode": {
    "name": "ipython",
    "version": 3
   },
   "file_extension": ".py",
   "mimetype": "text/x-python",
   "name": "python",
   "nbconvert_exporter": "python",
   "pygments_lexer": "ipython3",
   "version": "3.6.10"
  }
 },
 "nbformat": 4,
 "nbformat_minor": 4
}
