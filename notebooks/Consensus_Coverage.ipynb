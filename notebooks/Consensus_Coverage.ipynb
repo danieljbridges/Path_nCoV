{
 "cells": [
  {
   "cell_type": "markdown",
   "metadata": {},
   "source": [
    "# Assess the consensus genome coverage per sample"
   ]
  },
  {
   "cell_type": "code",
   "execution_count": 1,
   "metadata": {},
   "outputs": [],
   "source": [
    "import os\n",
    "import sys\n",
    "import pandas as pd\n",
    "import numpy as np\n",
    "\n",
    "from Bio import SeqIO"
   ]
  },
  {
   "cell_type": "code",
   "execution_count": 2,
   "metadata": {},
   "outputs": [],
   "source": [
    "dir_base = os.path.expanduser(\"~/WGS/analyses/Coverage/\")\n",
    "fa_path = dir_base+\"Samples.fasta\""
   ]
  },
  {
   "cell_type": "code",
   "execution_count": 3,
   "metadata": {},
   "outputs": [],
   "source": [
    "fa_path = os.path.expanduser(\"~/Desktop/121240.fasta\")\n",
    "famulti_path = os.path.expanduser(\"~/Desktop/allsequences.fasta\")"
   ]
  },
  {
   "cell_type": "markdown",
   "metadata": {},
   "source": [
    "# Manually calculate from Fasta"
   ]
  },
  {
   "cell_type": "code",
   "execution_count": 7,
   "metadata": {},
   "outputs": [
    {
     "name": "stdout",
     "output_type": "stream",
     "text": [
      "Sample\tLength\t#N\tCoverage\n",
      "121240\t29897\t5205\t0.8259022644412483\n"
     ]
    }
   ],
   "source": [
    "#Manual calculation without using a library\n",
    "#Open up the fasta file and read in the data\n",
    "with open(fa_path, \"r\") as fa:\n",
    "    headers = []\n",
    "    sequences = []\n",
    "    i=-1\n",
    "    nt=\"\"\n",
    "    for line in fa:\n",
    "        if line[0] == \">\":\n",
    "            headers.append(line.strip(\">\\n'\")) #Add to header\n",
    "            sequences.append(i) #Add new entry to sequences font to replace\n",
    "            i += 1 #Increment the count\n",
    "            nt = \"\" #Reset nt\n",
    "        else :\n",
    "            #Concatenate sequences\n",
    "            nt = nt+line.rstrip()\n",
    "            #Add sequence to the correct position\n",
    "            sequences[i]=nt\n",
    "\n",
    "            i = 0\n",
    "print(\"Sample\\tLength\\t#N\\tCoverage\")\n",
    "for seq in sequences :\n",
    "    # Reset values\n",
    "    N = 0\n",
    "    coverage = 0\n",
    "    length = 0\n",
    "    \n",
    "    for char in seq: \n",
    "        if char == 'N':\n",
    "            N += 1 #Count number of N's\n",
    "    length=len(seq) #count number of NT\n",
    "    \n",
    "    coverage=(length-N)/length\n",
    "    print(headers[i]+\"\\t\"+str(length)+\"\\t\"+str(N)+\"\\t\"+str(coverage))\n",
    "    i += 1"
   ]
  },
  {
   "cell_type": "markdown",
   "metadata": {},
   "source": [
    "# Use SeqIO for single entry FASTA"
   ]
  },
  {
   "cell_type": "code",
   "execution_count": 30,
   "metadata": {},
   "outputs": [
    {
     "name": "stdout",
     "output_type": "stream",
     "text": [
      "Sample 121240 has 29897 bp (5205 N's) therefore 82% coverage.\n",
      "Coverage is therefore 82 %.\n"
     ]
    }
   ],
   "source": [
    "#Use a library for speed!\n",
    "record = SeqIO.read(fa_path, \"fasta\")\n",
    "fa_length = len(record.seq) \n",
    "fa_num_N = record.seq.count('N') \n",
    "fa_coverage = ((fa_length - fa_num_N) / fa_length) *100\n",
    "print(\"Sample %s has %d bp (%d N's) therefore %d%% coverage.\" % (record.id,fa_length, fa_num_N, fa_coverage))\n"
   ]
  },
  {
   "cell_type": "code",
   "execution_count": 33,
   "metadata": {},
   "outputs": [],
   "source": [
    "def fasta_single_breadth (fasta_fp):\n",
    "    \"\"\"\n",
    "    Define the breadth of coverage from a single entry fasta as a percentage\n",
    "    \n",
    "    Parameters\n",
    "        fasta_fp : filepath to fasta file\n",
    "            \n",
    "    Returns\n",
    "        dt : dict, containing statistics on fasta file            \n",
    "    \"\"\"\n",
    "    #Load the record\n",
    "    record = SeqIO.read(fasta_fp, \"fasta\")\n",
    "    \n",
    "    #Calculate the statistics\n",
    "    fa_length = len(record.seq) \n",
    "    fa_num_N = record.seq.count('N') \n",
    "    fa_coverage = ((fa_length - fa_num_N) / fa_length) *100\n",
    "    \n",
    "    # Package key statistics into a dictionary\n",
    "    dt = {\n",
    "        \"coverage_breadth\": fa_coverage,\n",
    "        \"number_Ns\": fa_num_N,\n",
    "        \"consensus_genome_length\": fa_length\n",
    "    }\n",
    "    \n",
    "    return dt"
   ]
  },
  {
   "cell_type": "code",
   "execution_count": 34,
   "metadata": {},
   "outputs": [
    {
     "data": {
      "text/plain": [
       "{'coverage_breadth': 82.59022644412482,\n",
       " 'number_Ns': 5205,\n",
       " 'consensus_genome_length': 29897}"
      ]
     },
     "execution_count": 34,
     "metadata": {},
     "output_type": "execute_result"
    }
   ],
   "source": [
    "fasta_single_breadth(fa_path)"
   ]
  },
  {
   "cell_type": "markdown",
   "metadata": {},
   "source": [
    "# Calculate for multi-line fasta"
   ]
  },
  {
   "cell_type": "code",
   "execution_count": 66,
   "metadata": {},
   "outputs": [
    {
     "name": "stdout",
     "output_type": "stream",
     "text": [
      "Sample 67a has 29903 bp (344 N's) therefore 98% coverage.\n",
      "Sample 67c has 29903 bp (421 N's) therefore 98% coverage.\n",
      "Sample 29a has 29903 bp (167 N's) therefore 99% coverage.\n",
      "Sample 29b has 29903 bp (21473 N's) therefore 28% coverage.\n",
      "Sample 67b has 29901 bp (346 N's) therefore 98% coverage.\n"
     ]
    }
   ],
   "source": [
    "count = 0\n",
    "for record in SeqIO.parse(famulti_path, \"fasta\") :\n",
    "    fa_length = len(record.seq) \n",
    "    fa_num_N = record.seq.count('N') \n",
    "    fa_coverage = ((fa_length - fa_num_N) / fa_length) *100\n",
    "    if count <5:\n",
    "        print(\"Sample %s has %d bp (%d N's) therefore %d%% coverage.\" % (record.id,fa_length, fa_num_N, fa_coverage))\n",
    "    count += 1"
   ]
  },
  {
   "cell_type": "code",
   "execution_count": 52,
   "metadata": {},
   "outputs": [],
   "source": [
    "#Load the fasta file and iterate through\n",
    "for record in SeqIO.parse(famulti_path, \"fasta\") :\n",
    "    #Calculate the statistics\n",
    "    fa_length = len(record.seq) \n",
    "    fa_num_N = record.seq.count('N') \n",
    "    fa_coverage = ((fa_length - fa_num_N) / fa_length) *100\n",
    "\n",
    "    # Package key statistics into a dictionary with the record.id as the key\n",
    "    dt.update({ record.id : {\"coverage_breadth\": fa_coverage,\n",
    "                             \"number_Ns\": fa_num_N,\n",
    "                             \"consensus_genome_length\": fa_length}\n",
    "              })"
   ]
  },
  {
   "cell_type": "code",
   "execution_count": 20,
   "metadata": {},
   "outputs": [],
   "source": [
    "def fasta_stats (fasta_fp):\n",
    "    \"\"\"\n",
    "    Define statistics from a fasta (single- or multi-line)\n",
    "    \n",
    "    Parameters\n",
    "        fasta_fp : filepath to fasta file\n",
    "            \n",
    "    Returns\n",
    "        dt : dict, containing statistics on fasta file            \n",
    "    \"\"\"\n",
    "    #Define the dictionary\n",
    "    dt = {}\n",
    "    \n",
    "    #Load the fasta file and iterate through\n",
    "    for record in SeqIO.parse(fasta_fp, \"fasta\") :\n",
    "    \n",
    "        #Calculate the statistics\n",
    "        fa_length = len(record.seq) \n",
    "        fa_num_N = record.seq.count('N') \n",
    "        fa_coverage = ((fa_length - fa_num_N) / fa_length) *100\n",
    "        \n",
    "        # Package key statistics into a dictionary with the record.id as the key\n",
    "        dt.update({ record.id : {\"coverage_breadth_fasta\": fa_coverage,\n",
    "                                 \"number_Ns_fasta\": fa_num_N,\n",
    "                                 \"consensus_genome_length_fasta\": fa_length}\n",
    "                  })\n",
    "    \n",
    "    return dt"
   ]
  },
  {
   "cell_type": "code",
   "execution_count": 21,
   "metadata": {},
   "outputs": [],
   "source": [
    "#Analse the fasta file\n",
    "fasta_dt = fasta_stats(famulti_path)"
   ]
  },
  {
   "cell_type": "code",
   "execution_count": 18,
   "metadata": {},
   "outputs": [],
   "source": [
    "#Turn dictionary into a dataframe in correct orientation\n",
    "fasta_df = pd.DataFrame.from_dict(fasta_dt, orient ='index') "
   ]
  },
  {
   "cell_type": "code",
   "execution_count": 22,
   "metadata": {},
   "outputs": [],
   "source": [
    "fasta_df.reset_index(inplace=True)"
   ]
  },
  {
   "cell_type": "code",
   "execution_count": 24,
   "metadata": {},
   "outputs": [
    {
     "name": "stdout",
     "output_type": "stream",
     "text": [
      "   Stats generated for 1248 sequences\n"
     ]
    }
   ],
   "source": [
    "print(\"   Stats generated for %d sequences\" % len(fasta_df))"
   ]
  },
  {
   "cell_type": "code",
   "execution_count": 25,
   "metadata": {},
   "outputs": [
    {
     "name": "stdout",
     "output_type": "stream",
     "text": [
      "Merging fasta stats with bam / fastq stats (gisaid_df)\n"
     ]
    }
   ],
   "source": [
    "print(\"Merging fasta stats with bam / fastq stats (gisaid_df)\")"
   ]
  }
 ],
 "metadata": {
  "kernelspec": {
   "display_name": "Python 3",
   "language": "python",
   "name": "python3"
  },
  "language_info": {
   "codemirror_mode": {
    "name": "ipython",
    "version": 3
   },
   "file_extension": ".py",
   "mimetype": "text/x-python",
   "name": "python",
   "nbconvert_exporter": "python",
   "pygments_lexer": "ipython3",
   "version": "3.7.8"
  }
 },
 "nbformat": 4,
 "nbformat_minor": 4
}
