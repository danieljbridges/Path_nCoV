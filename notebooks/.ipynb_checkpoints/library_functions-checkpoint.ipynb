{
 "cells": [
  {
   "cell_type": "markdown",
   "metadata": {},
   "source": [
    "# Functions for analysis pipelines"
   ]
  },
  {
   "cell_type": "code",
   "execution_count": 31,
   "metadata": {},
   "outputs": [],
   "source": [
    "def extract_error_probs(fq_path):\n",
    "    \"\"\"\n",
    "    Extract the error probabilities from\n",
    "    a .fastq file\n",
    "    \n",
    "    params\n",
    "        fq_path : str\n",
    "            Path to the fastq file.\n",
    "    \n",
    "    returns\n",
    "        ps : list of arrays\n",
    "            List of arrays containing error\n",
    "            probabilities for each read\n",
    "    \n",
    "    \"\"\"\n",
    "    \n",
    "    with open(fq_path, \"r\") as fastq:\n",
    "        ps = []\n",
    "        for line in fastq:\n",
    "            if line[0] == \"@\":\n",
    "                j = 0\n",
    "            if j == 3:\n",
    "                ascii_score = line.rstrip()\n",
    "                q_score = np.array([ord(c) for c in ascii_score]) - 33\n",
    "                p_error = 10 ** (q_score / -10)\n",
    "                ps.append(p_error)\n",
    "            j += 1\n",
    "    \n",
    "    return(ps)"
   ]
  }
 ],
 "metadata": {
  "kernelspec": {
   "display_name": "Python 3",
   "language": "python",
   "name": "python3"
  },
  "language_info": {
   "codemirror_mode": {
    "name": "ipython",
    "version": 3
   },
   "file_extension": ".py",
   "mimetype": "text/x-python",
   "name": "python",
   "nbconvert_exporter": "python",
   "pygments_lexer": "ipython3",
   "version": "3.7.8"
  }
 },
 "nbformat": 4,
 "nbformat_minor": 4
}
