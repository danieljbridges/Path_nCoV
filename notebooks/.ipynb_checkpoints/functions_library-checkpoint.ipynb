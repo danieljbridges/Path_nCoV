{
 "cells": [
  {
   "cell_type": "code",
   "execution_count": 9,
   "metadata": {},
   "outputs": [],
   "source": [
    "import os\n",
    "import sys\n",
    "\n",
    "import pandas as pd\n",
    "import numpy as np\n",
    "\n",
    "import matplotlib.pyplot as plt\n",
    "import seaborn as sns\n",
    "\n",
    "# inline stylization\n",
    "%matplotlib inline\n",
    "sns.set_style('white')\n",
    "sns.set_style('ticks')\n",
    "#sns.set_style(\"ticks\")\n",
    "plt.rcParams['figure.dpi'] = 100\n",
    "plt.rcParams['savefig.dpi'] = 100"
   ]
  },
  {
   "cell_type": "markdown",
   "metadata": {},
   "source": [
    "## Settings"
   ]
  },
  {
   "cell_type": "code",
   "execution_count": 10,
   "metadata": {},
   "outputs": [],
   "source": [
    "savefigs = False\n",
    "output_dir = \"../figs\"\n",
    "if not os.path.exists(output_dir):\n",
    "    os.makedirs(output_dir)\n",
    "    print(\"Making output directory: %s\" % output_dir)"
   ]
  },
  {
   "cell_type": "markdown",
   "metadata": {},
   "source": [
    "## How to load a `.fastq` file"
   ]
  },
  {
   "cell_type": "code",
   "execution_count": 11,
   "metadata": {},
   "outputs": [
    {
     "name": "stdout",
     "output_type": "stream",
     "text": [
      ".fastq path: ../data/combined.fastq\n"
     ]
    }
   ],
   "source": [
    "input_dir = \"../data\"\n",
    "fq_fn = \"combined.fastq\"\n",
    "fq_path = os.path.join(input_dir, fq_fn)\n",
    "print(\".fastq path: %s\" % fq_path)"
   ]
  },
  {
   "cell_type": "code",
   "execution_count": 12,
   "metadata": {},
   "outputs": [],
   "source": [
    "fq = open(fq_path, \"r\")"
   ]
  },
  {
   "cell_type": "code",
   "execution_count": 13,
   "metadata": {},
   "outputs": [
    {
     "data": {
      "text/plain": [
       "'@9878a5be-86e0-4a3b-8030-f2af38856ac9 runid=9ce70c181767ada48688b5f4e975ccd1e61760e7 read=9 ch=77 start_time=2019-04-10T18:27:39Z flow_cell_id=FAK66173 protocol_group_id=NMEC1 sample_id=NMEC1\\n'"
      ]
     },
     "execution_count": 13,
     "metadata": {},
     "output_type": "execute_result"
    }
   ],
   "source": [
    "fq.readline()"
   ]
  },
  {
   "cell_type": "markdown",
   "metadata": {},
   "source": [
    "- We can see that we have loaded a `.fastq` file, and we are able to read it line by line\n",
    "- We can also save **all** the lines into a list"
   ]
  },
  {
   "cell_type": "code",
   "execution_count": 14,
   "metadata": {},
   "outputs": [
    {
     "data": {
      "text/plain": [
       "['TCGGTGTACTTCGTTCAGTTACGTATTGCTAGGTTAAACAGACGACTACAAACGGAATCGACAAGCACCTATTTGTCATCATTTGTTCATATATTTTTTAATTTCAATATAAAGGCTTTTCTTTTTCTTTTCCATTCGCGCGCCACATTCATATTTACTCTTATAAAAAAAAAAAGGTCATCATCAAAAGACATATAGAGTAACCTCGCATCGCGAAGAACAACAAGGTGCTGTCGATTCGTTGTAGTCGTCATTCTTTCTGTCTTTTAG\\n',\n",
       " '+\\n',\n",
       " ')(\\'\")&+)13;7:<>.&+)-00*/+0.+-1/--0003++\\'+7435538==>31&\\'\\'.014747+$&)-1-*/<-,020/03<?438<=1-,,,17=<7*2*<>/,)/%#%#**1/.09==,.<++%#\\'+,*/-#*(\\',/)..//*)%\\'+,%\\'$,3%()\\'(\\'(-..56*-38977,#\"*,57-&($(.3+(..31,+%#$()-*-*)+%#%$$#\"&+,&*037;465&-,/64(29996;5/1:+,)010,/,%*-\\'*,$\"#\"###\\'\\'&\\'$\\n',\n",
       " '@dc2b3578-d28e-4be2-a8f6-05b6d703a753 runid=9ce70c181767ada48688b5f4e975ccd1e61760e7 read=10 ch=374 start_time=2019-04-10T18:27:39Z flow_cell_id=FAK66173 protocol_group_id=NMEC1 sample_id=NMEC1\\n',\n",
       " 'ACAGTAGCTTCGTTCAGTTACGTATTGCTAAGGTTAAGACTACTTTCTGCCTTTGCAGAACAGCACCTATTATTTTCATTGTCTTCACATATATGACATAAATATTTTAAATCGACATTCCGATATATTATATTTTAGACTATAATATCCGTTAATAATAAATACACGCAGTCATATTATTTATTATACATTCATTTATTATTTTGTTTTAATTTCTTACATATAACAAAATGAAATTCGCAAATAAAAAAAAAATAATCAAAAAAAGCAAAAATGGCAGGCGTTAGAAATTAGATAATTTAGTACAGAGAAGAGTAAAGTATCCAAAAATGGAAATGAATGATATAAATGAATGTATAATAAATAATATGACTGCGTGTATTTATTATTAACGAAAGGATGTCTCAATCTAAAAACATAATATATCAGAGATAATCTGACCTAAAAATATTATGTCACTCATGGAAAGATAATAATAATAGGTGTTCTAAAACAATAGTAACTGCTG\\n']"
      ]
     },
     "execution_count": 14,
     "metadata": {},
     "output_type": "execute_result"
    }
   ],
   "source": [
    "lines = fq.readlines()\n",
    "lines[:5] # showing the first five lines"
   ]
  },
  {
   "cell_type": "markdown",
   "metadata": {},
   "source": [
    "- Once we have read all the lines, the variable `fq` is 'emptied'; we would have to `open()` the file again to populate `fq`"
   ]
  },
  {
   "cell_type": "code",
   "execution_count": 16,
   "metadata": {},
   "outputs": [
    {
     "data": {
      "text/plain": [
       "''"
      ]
     },
     "execution_count": 16,
     "metadata": {},
     "output_type": "execute_result"
    }
   ],
   "source": [
    "fq.readline()"
   ]
  },
  {
   "cell_type": "code",
   "execution_count": 17,
   "metadata": {},
   "outputs": [
    {
     "data": {
      "text/plain": [
       "'@9878a5be-86e0-4a3b-8030-f2af38856ac9 runid=9ce70c181767ada48688b5f4e975ccd1e61760e7 read=9 ch=77 start_time=2019-04-10T18:27:39Z flow_cell_id=FAK66173 protocol_group_id=NMEC1 sample_id=NMEC1\\n'"
      ]
     },
     "execution_count": 17,
     "metadata": {},
     "output_type": "execute_result"
    }
   ],
   "source": [
    "fq = open(fq_path, \"r\")\n",
    "fq.readline()  # back to the first line"
   ]
  },
  {
   "cell_type": "markdown",
   "metadata": {},
   "source": [
    "- The `open()` function also allows us to loop over all of the lines in the file"
   ]
  },
  {
   "cell_type": "code",
   "execution_count": 18,
   "metadata": {},
   "outputs": [],
   "source": [
    "i = 0\n",
    "for l in fq:  # iterate over the lines\n",
    "    i += 1"
   ]
  },
  {
   "cell_type": "code",
   "execution_count": 19,
   "metadata": {},
   "outputs": [
    {
     "name": "stdout",
     "output_type": "stream",
     "text": [
      "Number of lines: 79999\n"
     ]
    }
   ],
   "source": [
    "print(\"Number of lines: %d\" % i)"
   ]
  },
  {
   "cell_type": "markdown",
   "metadata": {},
   "source": [
    "- What if we wanted to number of *reads* rather than the number of lines?\n",
    "- Recall the `.fastq` formatting, each new read begins with the @ symbol"
   ]
  },
  {
   "cell_type": "code",
   "execution_count": 20,
   "metadata": {},
   "outputs": [],
   "source": [
    "fq = open(fq_path, \"r\")  # re-open the file\n",
    "i = 0\n",
    "for l in fq:\n",
    "    if l[0] == \"@\":\n",
    "        i += 1"
   ]
  },
  {
   "cell_type": "code",
   "execution_count": 21,
   "metadata": {},
   "outputs": [
    {
     "name": "stdout",
     "output_type": "stream",
     "text": [
      "Number of reads: 20000\n"
     ]
    }
   ],
   "source": [
    "print(\"Number of reads: %d\" % i)"
   ]
  },
  {
   "cell_type": "markdown",
   "metadata": {},
   "source": [
    "- There is one issue with the approach that we are taking\n",
    "- What happens if we have a bug while we are looping over the file?\n",
    "- The loop will stop, and `fq` will contain whatever lines are left (who knows what those are?)\n",
    "- We can have better control using the `with` statement"
   ]
  },
  {
   "cell_type": "code",
   "execution_count": 22,
   "metadata": {},
   "outputs": [],
   "source": [
    "with open(fq_path, \"r\") as fq:  # this is the same as fq = open(fq_path, \"r\")\n",
    "    i = 0\n",
    "    for l in fq:\n",
    "        if l[0] == \"@\":\n",
    "            i += 1"
   ]
  },
  {
   "cell_type": "code",
   "execution_count": 23,
   "metadata": {},
   "outputs": [
    {
     "name": "stdout",
     "output_type": "stream",
     "text": [
      "Number of reads: 20000\n"
     ]
    }
   ],
   "source": [
    "print(\"Number of reads: %d\" % i)"
   ]
  },
  {
   "cell_type": "markdown",
   "metadata": {},
   "source": [
    "- Using with, if the code breaks, `fq` is annihilated (it only exists within the \"with\" statement)\n",
    "- Now we understand the basics of loading `.fastq` files and iterating over their lines in python"
   ]
  },
  {
   "cell_type": "markdown",
   "metadata": {},
   "source": [
    "## Extracting quality scores from `.fastq` files\n",
    "- We want to loop over the `.fastq` file as before, but this time we want to extract quality information\n",
    "- How?\n",
    "    - Recall the `.fastq` format:\n",
    "        - identifier, beginning with \"@\"\n",
    "        - nucleotide sequence\n",
    "        - '+\"\n",
    "        - quality scores\n",
    "    - So the quality score occurs three lines after the \"@\"\n",
    "- Let's make a small loop to get the idea"
   ]
  },
  {
   "cell_type": "code",
   "execution_count": 24,
   "metadata": {},
   "outputs": [],
   "source": [
    "fastq = open(fq_path, \"r\")"
   ]
  },
  {
   "cell_type": "code",
   "execution_count": 25,
   "metadata": {},
   "outputs": [
    {
     "name": "stdout",
     "output_type": "stream",
     "text": [
      ")('\")&+)13;7:<>.&+)-00*/+0.+-1/--0003++'+7435538==>31&''.014747+$&)-1-*/<-,020/03<?438<=1-,,,17=<7*2*<>/,)/%#%#**1/.09==,.<++%#'+,*/-#*(',/)..//*)%'+,%'$,3%()'('(-..56*-38977,#\"*,57-&($(.3+(..31,+%#$()-*-*)+%#%$$#\"&+,&*037;465&-,/64(29996;5/1:+,)010,/,%*-'*,$\"#\"###''&'$\n",
      "\n",
      ".&#$+&$),512<;,(*5-355971;/11;:;<;?=>9;9-006=<688:<4>/+,((,6+,--**+**+.)34>:96>6662362),058:-,),-0,26/14463-+,*+077906-4*./91/.+*,-2<=<<%%.--9735233;=+>*3*+2..=?:/0035*/0$65222/1(.21.49788994:102;0/2<41==2-2=<-5,>?/-:111;<<=<><<?==767-%)-+/1:>3/2;>>=????=00732/8;>>82#,1<;;((''1.,/54.,(&)',+5478<37-:<*-0:99(('-,)$##'()'*-5770=?>=9;/5/,.'(73+-.-.32=<<;?;9:856606<.+5>66600010=<<4433>>/9/.4956.+-(($*--)/((#'%'$'*03.)$%$(+--,./0((+%%$%#&%&&$(())450)()*6**(-,(&)%\"#$$%)$%%+..,,2**'((%))&$&$\"&+/+&+&#&')&$$%\"\"#\"\n",
      "\n",
      "'34+.0*+-1*,0.;./.=*.+2-22./1<70(\"('1+..9)+2=>6667;*>4'(,-23<;3.2005367;4/876*)&('37.8>5>;07&/335>=<:2+'(046-976<98,00<>;687<890<?//7::889:&-,,:>6--:444?8*((/86329678952,+),28;5411124752222111/-,+)+,-0-,))'+(&)+)*)9253<>:26;<:01:>??>-/:>/5506:6<7<7?/<--.76?32>>-3==;48:48052/05:8/6*/..-)0-.1869:73-++)*<-/:58,6+<>>;*&+//3:;63589=52334(7)3?>=6147/&'3<?4+,.3.1,'1$,'1##'+1202+08<//-$'(&&'%%/.)*%(%%))+'+%28-(&&*(%%$\"&#%%'%%$('&&'%),-.-'+(4=+**'+&#%#&&&%&(),00+()--'$$%#%$$$$$%#%%&'%'#%$&(*()%#%&)/,/,$$\"%%)'&#&$%&(303'$/474.$*+'$,12,)**+0:*,-2)&$#\"#\"#\"$#$&%'\"$(%$$$\"$\"\"#%##$%(\"'$(%(,0.),$&,/.-&#'%&&&%47+&(1&'%#$##\"$$)%$\"\"%.2'&#&/703*,(#&*)'$'&&$$&%%$$##$&)%%%''*-0*('(&%&&\"#$$'$'\"(*,-(&#\n",
      "\n",
      "(*$%%%#)1-506>),/-:,**-/,,60,.2<-73=880-//:427=8<<./,2+(*15+,9:1&1-34/:<<;4;:;<===::>:01:9=,0')6;5/;557=87()+29-44/881,7/<6-*15=:<.=>---=-,-688<8:;>866=:((*1<=5)#-%2564/400/.-*,-+'035:;:89,/022///.14/.-.-,-/0123645')*+/346>:786:83/5=>;14>??.93>/1,)5;2<2;2><29,-(0+*<>:+<>;-,9+9-)'&*&--/18*+))-10437<00+5/'$+-+,+0-*;:4<4:.+/62+,100-/3-0/,3=67887./23.576+/95/)*11*7;6;31,/*(%*+<-0%;122/09<;;;:>>??>8*0/9248-$'%+(,+5244458<39200/3(,31,'),-'$$$%&$\"$#\"#\"'%(&''($%\"%$'((#,%()0%'&$\"$##$$%'\"'&%&(&$'\"\"$$$$#\"\"%$#+)%%&)*'$(\"#%%\"\"\"\"$&$)25*))*2+'00-0*$(..0)&%#'-1+&),+'%$&*$&%&%(*%'\"$&%&#\"#\"\"#$(+),/(%&#(.')('/2*-1/:5'60+()0,11.3*+%,*/06'%\"'$#)1;;+)++%&./+*%(&\"%)*'%(\")-)$\"\"\"$#'($$#$$#(',''&+'%&*$%&%\"$*)%#\"\n",
      "\n"
     ]
    }
   ],
   "source": [
    "i = 0\n",
    "for line in fastq:\n",
    "    \n",
    "    if line[0] == \"@\":  # if you encounter a line with `@`\n",
    "        j = 0  # reset the index to 0\n",
    "    if j == 3:  # if the index is 3...\n",
    "        print(line)  # print the line\n",
    "    j += 1  # add one to the index\n",
    "    \n",
    "    # Terminate loop after 16 lines\n",
    "    i += 1\n",
    "    if i > 16:\n",
    "        break"
   ]
  },
  {
   "cell_type": "markdown",
   "metadata": {},
   "source": [
    "- The quality scores!\n",
    "- Now, we want save the scores, not print them..."
   ]
  },
  {
   "cell_type": "code",
   "execution_count": 26,
   "metadata": {},
   "outputs": [],
   "source": [
    "i = 0\n",
    "ascii_scores = []  # initiate an empty list where we will put the scores\n",
    "for line in fastq:\n",
    "    \n",
    "    if line[0] == \"@\":  # if you encounter a line with `@`\n",
    "        j = 0  # reset the index to 0\n",
    "    if j == 3:  # if the index is 3...\n",
    "        ascii_scores.append(line.rstrip())  # append to the list of scores\n",
    "    j += 1  # add one to the index\n",
    "    \n",
    "    # Terminate loop after 16 lines\n",
    "    i += 1\n",
    "    if i > 16:\n",
    "        break"
   ]
  },
  {
   "cell_type": "code",
   "execution_count": 27,
   "metadata": {},
   "outputs": [
    {
     "data": {
      "text/plain": [
       "['*5+$.&,0611.8.,.1?/007.:...=::)\\'.%&.)*/4-\\'\\'(%\\'\\'*$%%%)&%$1+$479<7<6:766+\\'(03)%&)(4-73,%%\\'&))1=94:/220067<>???755050/.46,*+-190(&%\\',,2613:9?>7.,4/4+-*++\\')-)-3;8:2.<10>>=<?0....5====97;>2-3,-8-==?>8:766/2685778:;=:69>>=/013:?:98:;8357958::0:1?6767980,,,017-*).412445,9*3(.025\\')#7****)5>1239+8=>?/-/,.5901655655724%\\'*728868<;=23),-3>>>>????????<>2**-0;?75476687888540$/..34:;663201013<-+,311\\'/.0-7=./,,%.(&-+/743;99542447432324553311/125**%%%$\"#,262**55:;:26)1*)6)$\\'/\\'\\'\\'.94+5692<:2..,.-,-,-,04*-5/2120*$%/*&\\'(&2263497<;;/094667?:33//&\\'#\"&*%),&$&\"(*+2*4/-08>?4-444<456>>131(+++59>625/8///39=3.,0-/-015>;23582.&*)2,,,121/;2/6??9+/027=3333;92/8;2%(#$#',\n",
       " '$\"##$)%+((+:<97<==-150\".$/&$+$%)-7+5+;,>7---/221-**.*&),)-7/0/934,9,0*(-,./7/.49/4;11+*36,6641>7+0</,336-1900122<9952.1(1>=,79>>8---,9=6/93=?2/34>>>20040,-.,)*),/+.076:927468<30/.1/.5;1-+/+&+$++03*#+-/)),)8,\\'\\'&)*&.4+*20.1475(74>18+8/63%(%$#*\\')()\\'*0\\'\\'+488852/&)+&)10,)24::56466;83,-%\\'%)).+.,-,/*07\\'#+,$16+*-/245*)-)\\'&*+16-.0,%&&&#+3*)-0+\\'(,/+\\'02(+2)()($$%\\'\"%\"&*-*$*-+\"(%%$##&.+%-/\\'%&%$%&\\'&%$\"\"&)03++(%$&%4*&$%#)%$%()$$%%&%,(&%\"\"\"#%&(\\'$$#\"\"\"',\n",
       " '#2(%\\'\\'%\\'(0/+451(0,6(+*025/<//.78=0111116946:=7=887?:;77785223321,*--0<7<(754-+*$(%#%(+-00543\"$%%\\'22+4,/3//-/3:>??<9752-/%4%\\');:<=?<6560)&)\\'(.2??<20:27666)+57-.167445-3=--;>:::;<;<<=>8+80(#2/0$$+%\\'%&\\',/0<>;:96<2>?>7)***-,)*(%&*,0203.380+/.4+/\\'(\\'*+22,3,,/1.,041412(,%<*699(2:**-,4<<>>=20).,.+-...3+111&\\'*-40;00=<<<:>><=:/405:=<>>???????/((,211,((*.276323/./014::6555478632(\\'%(&\\'1661012.&1\\'*-00/>:/5/.&)*()51)+.,.2:;:;9:952112462323255623.31.-()*;<==,5505<;510-155\\'\\'#\"%&+\\'8+;8:3-+2,$)+-$)%#$#&),-%397:7391)(\\'%\\'-%/#)+6:1=;8+434:86:544(\\'$$$\\',--)+237111<1(\\'27<:,.)(\\'%()5:?/;-9-*)#\"%\")&()35411++8)(+\\'%\\'\\'+(0:,+27<;3>22/==>/043/://0642.,5973&1\\'&&\\'%%\\'\\'&(,2-.165%%(,255//6.1.86-+1//7</./0320-/-/6:.\\'\\'&(\\'()\\'&&\"',\n",
       " '\"#%%%*&$$*0448<>>*14/%,+02681/129*5*<,0--+272+$)%##&(4*(),6.11/,+%/&,##%$0*00/2)+/(\\'\\'+*.2253,-.;<?=6>3582578=??;.32266.8---=<==63*-))+.8=09,)*&6<=:*%\\'-=6;<59--,)*+\\'\\'23,0.-44-47:3\\'.%\\'((%&#00<>3<=/09;3;=>>:6997:56787+*$&+=>7145:?:3122-/314-11-+.150+.,/2.+..+3>:;:1:/;/846.0-1*-212<4-15%+4=4))**(\\'%)*.3<6<;;<\\'*)/(*3455=;>=>><12159=>?>????=.4+-3\\'\\');:<;:97320111021266087;>85212163331)07/78345<3>3,6,--><;9:;9:874432/.++,./323-4<1.039?;6<:<;?<<0+*0%#\\'%\\'$&)\\'$%%\"$#$%&%),/$(\"#&$&(\\'$%%\"#*+%%\"#\"\"$&%&%#%\"$\"$#&*+*&-,((%#%##$&%$\"#\"####\"(\\'&&\"&++&)$&\\'$$\"$\"#&000,,.2%%$##&$$\"#\"#\\'&%($-01-83976+()%\\'(*.,$$#%\\'(*%)\\'/,,/.&&&%(0.4)($%*1(+,-)+,/\\'$']"
      ]
     },
     "execution_count": 27,
     "metadata": {},
     "output_type": "execute_result"
    }
   ],
   "source": [
    "ascii_scores"
   ]
  },
  {
   "cell_type": "markdown",
   "metadata": {},
   "source": [
    "- The scores are stored in the variable `q_scores`\n",
    "- But how would we these convert these to error probabilities?\n",
    "\n",
    "\n",
    "- We have to reverse the encoding...\n",
    "- Recall..\n",
    "    \n",
    "$$ Q = - 10 log(p) $$\n",
    "\n",
    "- Where $ Q $ is the quality score, and $ p $ is the probability of error.\n",
    "- The $ Q $ scores (represented as intergers) are then converted to ASCII\n",
    "\n",
    "\n",
    "$$ Q \\rightarrow A $$\n",
    "\n",
    "- We have to reverse this process\n",
    "- We can do this using the built-in `ord()` function in python"
   ]
  },
  {
   "cell_type": "code",
   "execution_count": 53,
   "metadata": {},
   "outputs": [
    {
     "data": {
      "text/plain": [
       "33"
      ]
     },
     "execution_count": 53,
     "metadata": {},
     "output_type": "execute_result"
    }
   ],
   "source": [
    "ord(\"!\")"
   ]
  },
  {
   "cell_type": "code",
   "execution_count": 45,
   "metadata": {},
   "outputs": [
    {
     "data": {
      "text/plain": [
       "53"
      ]
     },
     "execution_count": 45,
     "metadata": {},
     "output_type": "execute_result"
    }
   ],
   "source": [
    "ord(\"5\")"
   ]
  },
  {
   "cell_type": "code",
   "execution_count": 46,
   "metadata": {},
   "outputs": [
    {
     "data": {
      "text/plain": [
       "20"
      ]
     },
     "execution_count": 46,
     "metadata": {},
     "output_type": "execute_result"
    }
   ],
   "source": [
    "ord(\"5\") - 33"
   ]
  },
  {
   "cell_type": "code",
   "execution_count": 49,
   "metadata": {},
   "outputs": [
    {
     "data": {
      "text/plain": [
       "0.01"
      ]
     },
     "execution_count": 49,
     "metadata": {},
     "output_type": "execute_result"
    }
   ],
   "source": [
    "10**((ord(\"5\") - 33)/-10)  # inverse of function to get p-value"
   ]
  },
  {
   "cell_type": "code",
   "execution_count": 50,
   "metadata": {},
   "outputs": [
    {
     "data": {
      "text/plain": [
       "'*5+$.&,0611.8.,.1?/007.:...=::)\\'.%&.)*/4-\\'\\'(%\\'\\'*$%%%)&%$1+$479<7<6:766+\\'(03)%&)(4-73,%%\\'&))1=94:/220067<>???755050/.46,*+-190(&%\\',,2613:9?>7.,4/4+-*++\\')-)-3;8:2.<10>>=<?0....5====97;>2-3,-8-==?>8:766/2685778:;=:69>>=/013:?:98:;8357958::0:1?6767980,,,017-*).412445,9*3(.025\\')#7****)5>1239+8=>?/-/,.5901655655724%\\'*728868<;=23),-3>>>>????????<>2**-0;?75476687888540$/..34:;663201013<-+,311\\'/.0-7=./,,%.(&-+/743;99542447432324553311/125**%%%$\"#,262**55:;:26)1*)6)$\\'/\\'\\'\\'.94+5692<:2..,.-,-,-,04*-5/2120*$%/*&\\'(&2263497<;;/094667?:33//&\\'#\"&*%),&$&\"(*+2*4/-08>?4-444<456>>131(+++59>625/8///39=3.,0-/-015>;23582.&*)2,,,121/;2/6??9+/027=3333;92/8;2%(#$#'"
      ]
     },
     "execution_count": 50,
     "metadata": {},
     "output_type": "execute_result"
    }
   ],
   "source": [
    "ascii_scores[0]  # here is the first read as ascii"
   ]
  },
  {
   "cell_type": "code",
   "execution_count": 51,
   "metadata": {},
   "outputs": [
    {
     "data": {
      "text/plain": [
       "array([ 9, 20, 10,  3, 13,  5, 11, 15, 21, 16, 16, 13, 23, 13, 11, 13, 16,\n",
       "       30, 14, 15, 15, 22, 13, 25, 13, 13, 13, 28, 25, 25,  8,  6, 13,  4,\n",
       "        5, 13,  8,  9, 14, 19, 12,  6,  6,  7,  4,  6,  6,  9,  3,  4,  4,\n",
       "        4,  8,  5,  4,  3, 16, 10,  3, 19, 22, 24, 27, 22, 27, 21, 25, 22,\n",
       "       21, 21, 10,  6,  7, 15, 18,  8,  4,  5,  8,  7, 19, 12, 22, 18, 11,\n",
       "        4,  4,  6,  5,  8,  8, 16, 28, 24, 19, 25, 14, 17, 17, 15, 15, 21,\n",
       "       22, 27, 29, 30, 30, 30, 22, 20, 20, 15, 20, 15, 14, 13, 19, 21, 11,\n",
       "        9, 10, 12, 16, 24, 15,  7,  5,  4,  6, 11, 11, 17, 21, 16, 18, 25,\n",
       "       24, 30, 29, 22, 13, 11, 19, 14, 19, 10, 12,  9, 10, 10,  6,  8, 12,\n",
       "        8, 12, 18, 26, 23, 25, 17, 13, 27, 16, 15, 29, 29, 28, 27, 30, 15,\n",
       "       13, 13, 13, 13, 20, 28, 28, 28, 28, 24, 22, 26, 29, 17, 12, 18, 11,\n",
       "       12, 23, 12, 28, 28, 30, 29, 23, 25, 22, 21, 21, 14, 17, 21, 23, 20,\n",
       "       22, 22, 23, 25, 26, 28, 25, 21, 24, 29, 29, 28, 14, 15, 16, 18, 25,\n",
       "       30, 25, 24, 23, 25, 26, 23, 18, 20, 22, 24, 20, 23, 25, 25, 15, 25,\n",
       "       16, 30, 21, 22, 21, 22, 24, 23, 15, 11, 11, 11, 15, 16, 22, 12,  9,\n",
       "        8, 13, 19, 16, 17, 19, 19, 20, 11, 24,  9, 18,  7, 13, 15, 17, 20,\n",
       "        6,  8,  2, 22,  9,  9,  9,  9,  8, 20, 29, 16, 17, 18, 24, 10, 23,\n",
       "       28, 29, 30, 14, 12, 14, 11, 13, 20, 24, 15, 16, 21, 20, 20, 21, 20,\n",
       "       20, 22, 17, 19,  4,  6,  9, 22, 17, 23, 23, 21, 23, 27, 26, 28, 17,\n",
       "       18,  8, 11, 12, 18, 29, 29, 29, 29, 30, 30, 30, 30, 30, 30, 30, 30,\n",
       "       27, 29, 17,  9,  9, 12, 15, 26, 30, 22, 20, 19, 22, 21, 21, 23, 22,\n",
       "       23, 23, 23, 20, 19, 15,  3, 14, 13, 13, 18, 19, 25, 26, 21, 21, 18,\n",
       "       17, 15, 16, 15, 16, 18, 27, 12, 10, 11, 18, 16, 16,  6, 14, 13, 15,\n",
       "       12, 22, 28, 13, 14, 11, 11,  4, 13,  7,  5, 12, 10, 14, 22, 19, 18,\n",
       "       26, 24, 24, 20, 19, 17, 19, 19, 22, 19, 18, 17, 18, 17, 19, 20, 20,\n",
       "       18, 18, 16, 16, 14, 16, 17, 20,  9,  9,  4,  4,  4,  3,  1,  2, 11,\n",
       "       17, 21, 17,  9,  9, 20, 20, 25, 26, 25, 17, 21,  8, 16,  9,  8, 21,\n",
       "        8,  3,  6, 14,  6,  6,  6, 13, 24, 19, 10, 20, 21, 24, 17, 27, 25,\n",
       "       17, 13, 13, 11, 13, 12, 11, 12, 11, 12, 11, 15, 19,  9, 12, 20, 14,\n",
       "       17, 16, 17, 15,  9,  3,  4, 14,  9,  5,  6,  7,  5, 17, 17, 21, 18,\n",
       "       19, 24, 22, 27, 26, 26, 14, 15, 24, 19, 21, 21, 22, 30, 25, 18, 18,\n",
       "       14, 14,  5,  6,  2,  1,  5,  9,  4,  8, 11,  5,  3,  5,  1,  7,  9,\n",
       "       10, 17,  9, 19, 14, 12, 15, 23, 29, 30, 19, 12, 19, 19, 19, 27, 19,\n",
       "       20, 21, 29, 29, 16, 18, 16,  7, 10, 10, 10, 20, 24, 29, 21, 17, 20,\n",
       "       14, 23, 14, 14, 14, 18, 24, 28, 18, 13, 11, 15, 12, 14, 12, 15, 16,\n",
       "       20, 29, 26, 17, 18, 20, 23, 17, 13,  5,  9,  8, 17, 11, 11, 11, 16,\n",
       "       17, 16, 14, 26, 17, 14, 21, 30, 30, 24, 10, 14, 15, 17, 22, 28, 18,\n",
       "       18, 18, 18, 26, 24, 17, 14, 23, 26, 17,  4,  7,  2,  3,  2])"
      ]
     },
     "execution_count": 51,
     "metadata": {},
     "output_type": "execute_result"
    }
   ],
   "source": [
    "q_scores = np.array([ord(c) - 33 for c in ascii_scores[0]])\n",
    "q_scores  # here it is as Q scores!"
   ]
  },
  {
   "cell_type": "markdown",
   "metadata": {},
   "source": [
    "- Finally, we can convert to probabilities..."
   ]
  },
  {
   "cell_type": "code",
   "execution_count": 30,
   "metadata": {
    "scrolled": true
   },
   "outputs": [
    {
     "data": {
      "text/plain": [
       "array([0.12589254, 0.01      , 0.1       , 0.50118723, 0.05011872,\n",
       "       0.31622777, 0.07943282, 0.03162278, 0.00794328, 0.02511886,\n",
       "       0.02511886, 0.05011872, 0.00501187, 0.05011872, 0.07943282,\n",
       "       0.05011872, 0.02511886, 0.001     , 0.03981072, 0.03162278,\n",
       "       0.03162278, 0.00630957, 0.05011872, 0.00316228, 0.05011872,\n",
       "       0.05011872, 0.05011872, 0.00158489, 0.00316228, 0.00316228,\n",
       "       0.15848932, 0.25118864, 0.05011872, 0.39810717, 0.31622777,\n",
       "       0.05011872, 0.15848932, 0.12589254, 0.03981072, 0.01258925,\n",
       "       0.06309573, 0.25118864, 0.25118864, 0.19952623, 0.39810717,\n",
       "       0.25118864, 0.25118864, 0.12589254, 0.50118723, 0.39810717,\n",
       "       0.39810717, 0.39810717, 0.15848932, 0.31622777, 0.39810717,\n",
       "       0.50118723, 0.02511886, 0.1       , 0.50118723, 0.01258925,\n",
       "       0.00630957, 0.00398107, 0.00199526, 0.00630957, 0.00199526,\n",
       "       0.00794328, 0.00316228, 0.00630957, 0.00794328, 0.00794328,\n",
       "       0.1       , 0.25118864, 0.19952623, 0.03162278, 0.01584893,\n",
       "       0.15848932, 0.39810717, 0.31622777, 0.15848932, 0.19952623,\n",
       "       0.01258925, 0.06309573, 0.00630957, 0.01584893, 0.07943282,\n",
       "       0.39810717, 0.39810717, 0.25118864, 0.31622777, 0.15848932,\n",
       "       0.15848932, 0.02511886, 0.00158489, 0.00398107, 0.01258925,\n",
       "       0.00316228, 0.03981072, 0.01995262, 0.01995262, 0.03162278,\n",
       "       0.03162278, 0.00794328, 0.00630957, 0.00199526, 0.00125893,\n",
       "       0.001     , 0.001     , 0.001     , 0.00630957, 0.01      ,\n",
       "       0.01      , 0.03162278, 0.01      , 0.03162278, 0.03981072,\n",
       "       0.05011872, 0.01258925, 0.00794328, 0.07943282, 0.12589254,\n",
       "       0.1       , 0.06309573, 0.02511886, 0.00398107, 0.03162278,\n",
       "       0.19952623, 0.31622777, 0.39810717, 0.25118864, 0.07943282,\n",
       "       0.07943282, 0.01995262, 0.00794328, 0.02511886, 0.01584893,\n",
       "       0.00316228, 0.00398107, 0.001     , 0.00125893, 0.00630957,\n",
       "       0.05011872, 0.07943282, 0.01258925, 0.03981072, 0.01258925,\n",
       "       0.1       , 0.06309573, 0.12589254, 0.1       , 0.1       ,\n",
       "       0.25118864, 0.15848932, 0.06309573, 0.15848932, 0.06309573,\n",
       "       0.01584893, 0.00251189, 0.00501187, 0.00316228, 0.01995262,\n",
       "       0.05011872, 0.00199526, 0.02511886, 0.03162278, 0.00125893,\n",
       "       0.00125893, 0.00158489, 0.00199526, 0.001     , 0.03162278,\n",
       "       0.05011872, 0.05011872, 0.05011872, 0.05011872, 0.01      ,\n",
       "       0.00158489, 0.00158489, 0.00158489, 0.00158489, 0.00398107,\n",
       "       0.00630957, 0.00251189, 0.00125893, 0.01995262, 0.06309573,\n",
       "       0.01584893, 0.07943282, 0.06309573, 0.00501187, 0.06309573,\n",
       "       0.00158489, 0.00158489, 0.001     , 0.00125893, 0.00501187,\n",
       "       0.00316228, 0.00630957, 0.00794328, 0.00794328, 0.03981072,\n",
       "       0.01995262, 0.00794328, 0.00501187, 0.01      , 0.00630957,\n",
       "       0.00630957, 0.00501187, 0.00316228, 0.00251189, 0.00158489,\n",
       "       0.00316228, 0.00794328, 0.00398107, 0.00125893, 0.00125893,\n",
       "       0.00158489, 0.03981072, 0.03162278, 0.02511886, 0.01584893,\n",
       "       0.00316228, 0.001     , 0.00316228, 0.00398107, 0.00501187,\n",
       "       0.00316228, 0.00251189, 0.00501187, 0.01584893, 0.01      ,\n",
       "       0.00630957, 0.00398107, 0.01      , 0.00501187, 0.00316228,\n",
       "       0.00316228, 0.03162278, 0.00316228, 0.02511886, 0.001     ,\n",
       "       0.00794328, 0.00630957, 0.00794328, 0.00630957, 0.00398107,\n",
       "       0.00501187, 0.03162278, 0.07943282, 0.07943282, 0.07943282,\n",
       "       0.03162278, 0.02511886, 0.00630957, 0.06309573, 0.12589254,\n",
       "       0.15848932, 0.05011872, 0.01258925, 0.02511886, 0.01995262,\n",
       "       0.01258925, 0.01258925, 0.01      , 0.07943282, 0.00398107,\n",
       "       0.12589254, 0.01584893, 0.19952623, 0.05011872, 0.03162278,\n",
       "       0.01995262, 0.01      , 0.25118864, 0.15848932, 0.63095734,\n",
       "       0.00630957, 0.12589254, 0.12589254, 0.12589254, 0.12589254,\n",
       "       0.15848932, 0.01      , 0.00125893, 0.02511886, 0.01995262,\n",
       "       0.01584893, 0.00398107, 0.1       , 0.00501187, 0.00158489,\n",
       "       0.00125893, 0.001     , 0.03981072, 0.06309573, 0.03981072,\n",
       "       0.07943282, 0.05011872, 0.01      , 0.00398107, 0.03162278,\n",
       "       0.02511886, 0.00794328, 0.01      , 0.01      , 0.00794328,\n",
       "       0.01      , 0.01      , 0.00630957, 0.01995262, 0.01258925,\n",
       "       0.39810717, 0.25118864, 0.12589254, 0.00630957, 0.01995262,\n",
       "       0.00501187, 0.00501187, 0.00794328, 0.00501187, 0.00199526,\n",
       "       0.00251189, 0.00158489, 0.01995262, 0.01584893, 0.15848932,\n",
       "       0.07943282, 0.06309573, 0.01584893, 0.00125893, 0.00125893,\n",
       "       0.00125893, 0.00125893, 0.001     , 0.001     , 0.001     ,\n",
       "       0.001     , 0.001     , 0.001     , 0.001     , 0.001     ,\n",
       "       0.00199526, 0.00125893, 0.01995262, 0.12589254, 0.12589254,\n",
       "       0.06309573, 0.03162278, 0.00251189, 0.001     , 0.00630957,\n",
       "       0.01      , 0.01258925, 0.00630957, 0.00794328, 0.00794328,\n",
       "       0.00501187, 0.00630957, 0.00501187, 0.00501187, 0.00501187,\n",
       "       0.01      , 0.01258925, 0.03162278, 0.50118723, 0.03981072,\n",
       "       0.05011872, 0.05011872, 0.01584893, 0.01258925, 0.00316228,\n",
       "       0.00251189, 0.00794328, 0.00794328, 0.01584893, 0.01995262,\n",
       "       0.03162278, 0.02511886, 0.03162278, 0.02511886, 0.01584893,\n",
       "       0.00199526, 0.06309573, 0.1       , 0.07943282, 0.01584893,\n",
       "       0.02511886, 0.02511886, 0.25118864, 0.03981072, 0.05011872,\n",
       "       0.03162278, 0.06309573, 0.00630957, 0.00158489, 0.05011872,\n",
       "       0.03981072, 0.07943282, 0.07943282, 0.39810717, 0.05011872,\n",
       "       0.19952623, 0.31622777, 0.06309573, 0.1       , 0.03981072,\n",
       "       0.00630957, 0.01258925, 0.01584893, 0.00251189, 0.00398107,\n",
       "       0.00398107, 0.01      , 0.01258925, 0.01995262, 0.01258925,\n",
       "       0.01258925, 0.00630957, 0.01258925, 0.01584893, 0.01995262,\n",
       "       0.01584893, 0.01995262, 0.01258925, 0.01      , 0.01      ,\n",
       "       0.01584893, 0.01584893, 0.02511886, 0.02511886, 0.03981072,\n",
       "       0.02511886, 0.01995262, 0.01      , 0.12589254, 0.12589254,\n",
       "       0.39810717, 0.39810717, 0.39810717, 0.50118723, 0.79432823,\n",
       "       0.63095734, 0.07943282, 0.01995262, 0.00794328, 0.01995262,\n",
       "       0.12589254, 0.12589254, 0.01      , 0.01      , 0.00316228,\n",
       "       0.00251189, 0.00316228, 0.01995262, 0.00794328, 0.15848932,\n",
       "       0.02511886, 0.12589254, 0.15848932, 0.00794328, 0.15848932,\n",
       "       0.50118723, 0.25118864, 0.03981072, 0.25118864, 0.25118864,\n",
       "       0.25118864, 0.05011872, 0.00398107, 0.01258925, 0.1       ,\n",
       "       0.01      , 0.00794328, 0.00398107, 0.01995262, 0.00199526,\n",
       "       0.00316228, 0.01995262, 0.05011872, 0.05011872, 0.07943282,\n",
       "       0.05011872, 0.06309573, 0.07943282, 0.06309573, 0.07943282,\n",
       "       0.06309573, 0.07943282, 0.03162278, 0.01258925, 0.12589254,\n",
       "       0.06309573, 0.01      , 0.03981072, 0.01995262, 0.02511886,\n",
       "       0.01995262, 0.03162278, 0.12589254, 0.50118723, 0.39810717,\n",
       "       0.03981072, 0.12589254, 0.31622777, 0.25118864, 0.19952623,\n",
       "       0.31622777, 0.01995262, 0.01995262, 0.00794328, 0.01584893,\n",
       "       0.01258925, 0.00398107, 0.00630957, 0.00199526, 0.00251189,\n",
       "       0.00251189, 0.03981072, 0.03162278, 0.00398107, 0.01258925,\n",
       "       0.00794328, 0.00794328, 0.00630957, 0.001     , 0.00316228,\n",
       "       0.01584893, 0.01584893, 0.03981072, 0.03981072, 0.31622777,\n",
       "       0.25118864, 0.63095734, 0.79432823, 0.31622777, 0.12589254,\n",
       "       0.39810717, 0.15848932, 0.07943282, 0.31622777, 0.50118723,\n",
       "       0.31622777, 0.79432823, 0.19952623, 0.12589254, 0.1       ,\n",
       "       0.01995262, 0.12589254, 0.01258925, 0.03981072, 0.06309573,\n",
       "       0.03162278, 0.00501187, 0.00125893, 0.001     , 0.01258925,\n",
       "       0.06309573, 0.01258925, 0.01258925, 0.01258925, 0.00199526,\n",
       "       0.01258925, 0.01      , 0.00794328, 0.00125893, 0.00125893,\n",
       "       0.02511886, 0.01584893, 0.02511886, 0.19952623, 0.1       ,\n",
       "       0.1       , 0.1       , 0.01      , 0.00398107, 0.00125893,\n",
       "       0.00794328, 0.01995262, 0.01      , 0.03981072, 0.00501187,\n",
       "       0.03981072, 0.03981072, 0.03981072, 0.01584893, 0.00398107,\n",
       "       0.00158489, 0.01584893, 0.05011872, 0.07943282, 0.03162278,\n",
       "       0.06309573, 0.03981072, 0.06309573, 0.03162278, 0.02511886,\n",
       "       0.01      , 0.00125893, 0.00251189, 0.01995262, 0.01584893,\n",
       "       0.01      , 0.00501187, 0.01995262, 0.05011872, 0.31622777,\n",
       "       0.12589254, 0.15848932, 0.01995262, 0.07943282, 0.07943282,\n",
       "       0.07943282, 0.02511886, 0.01995262, 0.02511886, 0.03981072,\n",
       "       0.00251189, 0.01995262, 0.03981072, 0.00794328, 0.001     ,\n",
       "       0.001     , 0.00398107, 0.1       , 0.03981072, 0.03162278,\n",
       "       0.01995262, 0.00630957, 0.00158489, 0.01584893, 0.01584893,\n",
       "       0.01584893, 0.01584893, 0.00251189, 0.00398107, 0.01995262,\n",
       "       0.03981072, 0.00501187, 0.00251189, 0.01995262, 0.39810717,\n",
       "       0.19952623, 0.63095734, 0.50118723, 0.63095734])"
      ]
     },
     "execution_count": 30,
     "metadata": {},
     "output_type": "execute_result"
    }
   ],
   "source": [
    "p_error = 10 ** (q_scores / -10)\n",
    "p_error # error probabilities!"
   ]
  },
  {
   "cell_type": "markdown",
   "metadata": {},
   "source": [
    "- Now we know everything we have to do\n",
    "- Let's fold it into a nice function"
   ]
  },
  {
   "cell_type": "markdown",
   "metadata": {},
   "source": [
    "## Writing a python function to extract q scores"
   ]
  },
  {
   "cell_type": "code",
   "execution_count": 31,
   "metadata": {},
   "outputs": [],
   "source": [
    "def extract_error_probs(fq_path):\n",
    "    \"\"\"\n",
    "    Extract the error probabilities from\n",
    "    a .fastq file\n",
    "    \n",
    "    params\n",
    "        fq_path : str\n",
    "            Path to the fastq file.\n",
    "    \n",
    "    returns\n",
    "        ps : list of arrays\n",
    "            List of arrays containing error\n",
    "            probabilities for each read\n",
    "    \n",
    "    \"\"\"\n",
    "    \n",
    "    with open(fq_path, \"r\") as fastq:\n",
    "        ps = []\n",
    "        for line in fastq:\n",
    "            if line[0] == \"@\":\n",
    "                j = 0\n",
    "            if j == 3:\n",
    "                ascii_score = line.rstrip()\n",
    "                q_score = np.array([ord(c) for c in ascii_score]) - 33\n",
    "                p_error = 10 ** (q_score / -10)\n",
    "                ps.append(p_error)\n",
    "            j += 1\n",
    "    \n",
    "    return(ps)"
   ]
  },
  {
   "cell_type": "code",
   "execution_count": 32,
   "metadata": {},
   "outputs": [],
   "source": [
    "ps = extract_error_probs(fq_path)"
   ]
  },
  {
   "cell_type": "code",
   "execution_count": 33,
   "metadata": {},
   "outputs": [
    {
     "data": {
      "text/plain": [
       "20000"
      ]
     },
     "execution_count": 33,
     "metadata": {},
     "output_type": "execute_result"
    }
   ],
   "source": [
    "len(ps)"
   ]
  },
  {
   "cell_type": "markdown",
   "metadata": {},
   "source": [
    "## Plot the results"
   ]
  },
  {
   "cell_type": "markdown",
   "metadata": {},
   "source": [
    "### A single read"
   ]
  },
  {
   "cell_type": "code",
   "execution_count": 34,
   "metadata": {},
   "outputs": [
    {
     "data": {
      "text/plain": [
       "Text(0.0, 1.0, 'First Read Only')"
      ]
     },
     "execution_count": 34,
     "metadata": {},
     "output_type": "execute_result"
    },
    {
     "data": {
      "image/png": "[encoded data removed]",
      "text/plain": [
       "<Figure size 600x400 with 1 Axes>"
      ]
     },
     "metadata": {},
     "output_type": "display_data"
    }
   ],
   "source": [
    "fig, ax = plt.subplots(1, 1)\n",
    "\n",
    "ax.plot(ps[0], color='darkgrey', alpha=1)\n",
    "ax.set_xlabel(\"Read Oosition (bp)\")\n",
    "ax.set_ylabel(\"Error Probability\")\n",
    "ax.set_title(\"First Read Only\", loc=\"left\")"
   ]
  },
  {
   "cell_type": "markdown",
   "metadata": {},
   "source": [
    "### 100 reads"
   ]
  },
  {
   "cell_type": "code",
   "execution_count": 35,
   "metadata": {
    "scrolled": false
   },
   "outputs": [
    {
     "data": {
      "text/plain": [
       "Text(0.0, 1.0, 'First 100 Reads')"
      ]
     },
     "execution_count": 35,
     "metadata": {},
     "output_type": "execute_result"
    },
    {
     "data": {
      "image/png": "[encoded data removed]",
      "text/plain": [
       "<Figure size 600x400 with 1 Axes>"
      ]
     },
     "metadata": {},
     "output_type": "display_data"
    }
   ],
   "source": [
    "fig, ax = plt.subplots(1, 1)\n",
    "\n",
    "n_view = 100\n",
    "for p in ps[:100]:\n",
    "    ax.plot(p, color='darkgrey', alpha=0.01)\n",
    "ax.set_xlabel(\"Read position (bp)\")\n",
    "ax.set_ylabel(\"Error Probability\")\n",
    "ax.set_title(\"First %d Reads\" % n_view, loc=\"left\")"
   ]
  },
  {
   "cell_type": "markdown",
   "metadata": {},
   "source": [
    "- We want a trend line through this mess\n",
    "- We don't want to make any assumptions\n",
    "    - Use a non-parameter smoothing method\n",
    "    - That's LOWESS\n",
    "- For LOWESS we need to give x-values to each read (position)"
   ]
  },
  {
   "cell_type": "markdown",
   "metadata": {},
   "source": [
    "### Smooth with LOWESS"
   ]
  },
  {
   "cell_type": "code",
   "execution_count": 36,
   "metadata": {},
   "outputs": [],
   "source": [
    "from statsmodels.nonparametric.smoothers_lowess import lowess"
   ]
  },
  {
   "cell_type": "code",
   "execution_count": 37,
   "metadata": {},
   "outputs": [],
   "source": [
    "positions = [np.arange(len(p)) for p in ps]"
   ]
  },
  {
   "cell_type": "code",
   "execution_count": 38,
   "metadata": {},
   "outputs": [],
   "source": [
    "concat_ps = np.concatenate(ps)\n",
    "concat_positions = np.concatenate(positions)"
   ]
  },
  {
   "cell_type": "code",
   "execution_count": 39,
   "metadata": {},
   "outputs": [
    {
     "data": {
      "text/plain": [
       "35680325"
      ]
     },
     "execution_count": 39,
     "metadata": {},
     "output_type": "execute_result"
    }
   ],
   "source": [
    "len(concat_ps)  # 35 million letters of sequence"
   ]
  },
  {
   "cell_type": "code",
   "execution_count": 40,
   "metadata": {
    "scrolled": true
   },
   "outputs": [],
   "source": [
    "n_smooth = 10**6\n",
    "ps_smooth = lowess(endog=concat_ps[:n_smooth], \n",
    "                   exog=concat_positions[:n_smooth],\n",
    "                   frac=0.1)"
   ]
  },
  {
   "cell_type": "code",
   "execution_count": 41,
   "metadata": {},
   "outputs": [
    {
     "data": {
      "text/plain": [
       "[<matplotlib.lines.Line2D at 0x7f9fd9c9d710>]"
      ]
     },
     "execution_count": 41,
     "metadata": {},
     "output_type": "execute_result"
    },
    {
     "data": {
      "image/png": "[encoded data removed]",
      "text/plain": [
       "<Figure size 600x400 with 1 Axes>"
      ]
     },
     "metadata": {},
     "output_type": "display_data"
    }
   ],
   "source": [
    "fig, ax = plt.subplots(1, 1)\n",
    "\n",
    "ax.plot(ps_smooth[:, 0], ps_smooth[:, 1], color='firebrick')"
   ]
  },
  {
   "cell_type": "markdown",
   "metadata": {},
   "source": [
    "- Let's look at the average error per read"
   ]
  },
  {
   "cell_type": "markdown",
   "metadata": {},
   "source": [
    "### Per-position mean"
   ]
  },
  {
   "cell_type": "code",
   "execution_count": 54,
   "metadata": {},
   "outputs": [],
   "source": [
    "df = pd.DataFrame({\"error\": concat_ps, \"position\": concat_positions})"
   ]
  },
  {
   "cell_type": "code",
   "execution_count": 55,
   "metadata": {},
   "outputs": [],
   "source": [
    "per_position_means = df.groupby(\"position\").mean()\n",
    "per_position_ns = np.array(df.groupby(\"position\").size())\n",
    "se = np.array(df.groupby(\"position\").std()) / np.sqrt(per_position_ns)"
   ]
  },
  {
   "cell_type": "code",
   "execution_count": 58,
   "metadata": {},
   "outputs": [
    {
     "data": {
      "text/plain": [
       "Text(0.5, 0, 'Error Probability')"
      ]
     },
     "execution_count": 58,
     "metadata": {},
     "output_type": "execute_result"
    },
    {
     "data": {
      "image/png": "[encoded data removed]",
      "text/plain": [
       "<Figure size 600x400 with 1 Axes>"
      ]
     },
     "metadata": {},
     "output_type": "display_data"
    }
   ],
   "source": [
    "fig, ax = plt.subplots(1, 1)\n",
    "\n",
    "ax.plot(per_position_means, color='steelblue', alpha=1.0)\n",
    "ax.set_ylabel(\"Read position (bp)\")\n",
    "ax.set_xlabel(\"Error Probability\")"
   ]
  },
  {
   "cell_type": "markdown",
   "metadata": {},
   "source": [
    "## Questions:\n",
    "\n",
    "1. Compute the mean error probability per read. Plot a histogram of these values across all reads. Indicate the mean error probability across *all* reads with a vertical bar and in the title of the plot.\n",
    "2. Compute the length of every read. Plot the distribution of lengths as a histogram. Indicate the mean read length with a veritcal bar and in the title of the plot, as above.\n",
    "3. Is the mean error probability of a read a function of the read length? Produce at least one statistic and one visualisation to support your reasoning.\n",
    "4. **Bonus:** Compute the GC-content of each read and determine whether the error probability is a function of the GC content. Produce a visualisation and statistic to support your argument, as above."
   ]
  },
  {
   "cell_type": "code",
   "execution_count": null,
   "metadata": {},
   "outputs": [],
   "source": []
  }
 ],
 "metadata": {
  "kernelspec": {
   "display_name": "Python 3",
   "language": "python",
   "name": "python3"
  },
  "language_info": {
   "codemirror_mode": {
    "name": "ipython",
    "version": 3
   },
   "file_extension": ".py",
   "mimetype": "text/x-python",
   "name": "python",
   "nbconvert_exporter": "python",
   "pygments_lexer": "ipython3",
   "version": "3.7.8"
  }
 },
 "nbformat": 4,
 "nbformat_minor": 4
}
