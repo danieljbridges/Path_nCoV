{
 "cells": [
  {
   "cell_type": "markdown",
   "metadata": {},
   "source": [
    "## Analyse quality score across genome from bam file"
   ]
  },
  {
   "cell_type": "code",
   "execution_count": 1,
   "metadata": {},
   "outputs": [],
   "source": [
    "import os\n",
    "import sys\n",
    "\n",
    "import re\n",
    "import pysam\n",
    "\n",
    "import pandas as pd\n",
    "import numpy as np\n",
    "\n",
    "import matplotlib.pyplot as plt\n",
    "import seaborn as sns\n",
    "\n",
    "#load reusable functions\n",
    "from library_functions import cigar_positions, sam_positional_error, calc_error_probabilities, cigar_positions\n",
    "# inline stylization\n",
    "#%matplotlib inline\n",
    "#plt.rcParams['figure.dpi'] = 150"
   ]
  },
  {
   "cell_type": "markdown",
   "metadata": {},
   "source": [
    "## Settings"
   ]
  },
  {
   "cell_type": "code",
   "execution_count": 7,
   "metadata": {},
   "outputs": [],
   "source": [
    "#List location where all BAM files should be found\n",
    "base_dir = \"/home/dan/WGS/analyses/QC\"\n",
    "data_dir = os.path.join(base_dir+\"/data\")\n",
    "data_out = os.path.join(base_dir+\"/output\")\n",
    "figs_out  = os.path.join(base_dir+\"/figs\")\n",
    "#File format\n",
    "match=re.compile(\".primertrimmed.rg.sorted.bam$\")"
   ]
  },
  {
   "cell_type": "code",
   "execution_count": 8,
   "metadata": {},
   "outputs": [
    {
     "name": "stdout",
     "output_type": "stream",
     "text": [
      "/home/dan/WGS/analyses/QC/data\n"
     ]
    }
   ],
   "source": [
    "print(data_dir)"
   ]
  },
  {
   "cell_type": "markdown",
   "metadata": {},
   "source": [
    "## Extract and plot data"
   ]
  },
  {
   "cell_type": "code",
   "execution_count": 14,
   "metadata": {
    "scrolled": true
   },
   "outputs": [
    {
     "name": "stdout",
     "output_type": "stream",
     "text": [
      "/home/dan/WGS/analyses/QC/data/25267.primertrimmed.rg.sorted.bam\n",
      "0\n",
      "0\n"
     ]
    }
   ],
   "source": [
    "#Match the correct files from the data\n",
    "for file in [os.path.join(dp, f) for dp, dn, fn in os.walk(os.path.expanduser(data_dir)) for f in fn]:\n",
    "    if match.search(file):\n",
    "        #Define all input and output files\n",
    "        head_tail=os.path.split(file) #Split file and path\n",
    "        sample_id=head_tail[1] #Get the filename\n",
    "        sample_id=re.sub(match,'',sample_id) #Remove the match\n",
    "        sam_file = os.path.join(data_out, sample_id+\".sam\")\n",
    "        bam_file = os.path.join(data_dir, file)\n",
    "        plot_file = os.path.join(figs_out, sample_id+\".QC.pdf\")\n",
    "        csv_file = os.path.join(data_out, sample_id+\".df.csv\")\n",
    "        \n",
    "        #Convert BAM to SAM\n",
    "        cmd = \"samtools view %s -o %s\" % (bam_file, sam_file)\n",
    "        os.system(cmd)\n",
    "        \n",
    "        #Extract positional error_probs from SAM file\n",
    "        positions, error_probs = sam_positional_error(sam_file)\n",
    "        \n",
    "        #Need to create a table with sample ID and then various outputs (none of these are working)\n",
    "        \n",
    "        #Extract number of reads in the bam file\n",
    "        cmd = \"samtools view -c %s\" % (bam_file)\n",
    "        ReadNumber = os.system(cmd)\n",
    "        \n",
    "        #Total number of base pairs contained in the bam file\n",
    "        cmd = \"samtools stats %s | grep 'bases mapped (cigar):'\" % (bam_file)\n",
    "        Totalbp = os.system(cmd)\n",
    "        \n",
    "        #Delete the SAM file\n",
    "        os.remove(sam_file)\n",
    "        \n",
    "        \n",
    "        \n",
    "        ################ NEXT SECTION IS PROBABLY SPURIOUS\n",
    "        \n",
    "        if plot==1: \n",
    "\n",
    "            #Concatenate all data\n",
    "            positions = np.concatenate(positions)\n",
    "            error_probs = np.concatenate(error_probs)\n",
    "            keep = positions > 0\n",
    "            positions = positions[keep]\n",
    "            error_probs = error_probs[keep]\n",
    "\n",
    "            #Put outputs into a dataframe\n",
    "            df = (pd.DataFrame({\"position\": positions, \"error_prob\": error_probs})\n",
    "                  .groupby(\"position\")\n",
    "                  .mean()\n",
    "                  .reset_index()\n",
    "                  .sort_values(\"position\")\n",
    "                 )\n",
    "            #Add coverage #####HOW TO DO THIS DIRECTLY / I DON'T UNDERSTAND HOW COVERAGE IS CALCULATED\n",
    "            df[\"coverage\"] = (pd.DataFrame({\"position\": positions, \"error_prob\": error_probs})\n",
    "                              .groupby(\"position\")\n",
    "                              .size()\n",
    "                              .values\n",
    "                             )\n",
    "            #Output the dataframe\n",
    "            test_data = df.to_csv(csv_file, index = True) \n",
    "\n",
    "            #Plot the data\n",
    "            fig, ax = plt.subplots(1, 1, figsize=(8, 4))\n",
    "\n",
    "            ax.plot(df[\"position\"], df[\"error_prob\"])\n",
    "            ax.set_xlabel(\"Genomic Position\")\n",
    "            ax.set_ylabel(\"Error Probability\")\n",
    "            ax.set_title(f\"Sample = {sample_id}\", loc=\"left\")\n",
    "\n",
    "            axm = ax.twinx()\n",
    "            axm.fill_between(x=df[\"position\"],\n",
    "                             y1=np.repeat(0, df.shape[0]),\n",
    "                             y2=df[\"coverage\"],\n",
    "                             color='darkgrey', alpha=0.5)\n",
    "            axm.set_ylabel(\"Coverage (grey)\")\n",
    "\n",
    "            #Export plot\n",
    "            plt.savefig(plot_file)\n",
    "    "
   ]
  },
  {
   "cell_type": "code",
   "execution_count": null,
   "metadata": {},
   "outputs": [],
   "source": []
  }
 ],
 "metadata": {
  "kernelspec": {
   "display_name": "Python 3",
   "language": "python",
   "name": "python3"
  },
  "language_info": {
   "codemirror_mode": {
    "name": "ipython",
    "version": 3
   },
   "file_extension": ".py",
   "mimetype": "text/x-python",
   "name": "python",
   "nbconvert_exporter": "python",
   "pygments_lexer": "ipython3",
   "version": "3.7.8"
  }
 },
 "nbformat": 4,
 "nbformat_minor": 4
}
