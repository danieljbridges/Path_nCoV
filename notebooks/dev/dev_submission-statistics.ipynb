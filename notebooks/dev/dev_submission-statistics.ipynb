{
 "cells": [
  {
   "cell_type": "markdown",
   "metadata": {},
   "source": [
    "## Develop a pipeline to compute quality control statistics necessary for submission to GISAID\n",
    "\n",
    "Below we compute a series of quality control statistics for GISAID using:\n",
    "- the coverage files\n",
    "- the consensus fasta\n",
    "\n",
    "For the \"sequencing depth (average)\" statistic, it would be best to use the .fastq files, however at present I do not have access."
   ]
  },
  {
   "cell_type": "code",
   "execution_count": 1,
   "metadata": {},
   "outputs": [],
   "source": [
    "import os\n",
    "import sys\n",
    "\n",
    "import pandas as pd\n",
    "import numpy as np\n",
    "\n",
    "import matplotlib.pyplot as plt\n",
    "%matplotlib inline\n",
    "plt.rcParams[\"figure.dpi\"] = 100"
   ]
  },
  {
   "cell_type": "markdown",
   "metadata": {},
   "source": [
    "## Functions"
   ]
  },
  {
   "cell_type": "markdown",
   "metadata": {},
   "source": [
    "### Loading coverage files"
   ]
  },
  {
   "cell_type": "code",
   "execution_count": 2,
   "metadata": {},
   "outputs": [],
   "source": [
    "def load_coverage_files(sample_dir, verbose=False):\n",
    "    \"\"\"\n",
    "    Load coverage files from ARCTIC output\n",
    "    \n",
    "    Parameters\n",
    "        sample_dir : str\n",
    "            Path to the sample directory. Within this\n",
    "            directory there should be coverage files\n",
    "            generated from the ARCTIC pipeline which\n",
    "            have a '.depths' suffix.\n",
    "        verbose : bool\n",
    "            TODO\n",
    "            \n",
    "    Returns\n",
    "        df : DataFrame, shape (2, n_sites)\n",
    "            A data frame of two columns containing\n",
    "            genomic position 'pos' and coverage 'cov'\n",
    "            data. Each position is representd only once;\n",
    "            the coverage across multiple primer pools is summed.\n",
    "    \n",
    "    \"\"\"\n",
    "    \n",
    "    # Identify coverage files\n",
    "    cov_files = [fn for fn in os.listdir(sample_dir) if fn.endswith(\".depths\")]\n",
    "    \n",
    "    # Prepare storage\n",
    "    dt = {\n",
    "        \"pos\": [],\n",
    "        \"cov\": []\n",
    "    }\n",
    "\n",
    "    # Iterate over pools\n",
    "    for cov_fn in cov_files:\n",
    "\n",
    "        # Open file\n",
    "        fn = os.path.join(data_path, cov_fn)\n",
    "        with open(fn, \"r\") as f:\n",
    "\n",
    "            # Iterate over lines\n",
    "            for line in f:\n",
    "\n",
    "                # Parse line\n",
    "                _, _, pos, cov = line.strip().split(\"\\t\")\n",
    "\n",
    "                # Store results\n",
    "                dt[\"pos\"].append(int(pos))  # note data type coercion\n",
    "                dt[\"cov\"].append(int(cov))  # \"\"\n",
    "    \n",
    "    # Convert to data frame\n",
    "    df = pd.DataFrame(dt)\n",
    "    \n",
    "    # Get total coverage at each position\n",
    "    df = (df\n",
    "          .groupby(\"pos\")\n",
    "          .sum()\n",
    "          .reset_index()\n",
    "         )\n",
    "    \n",
    "    return df"
   ]
  },
  {
   "cell_type": "markdown",
   "metadata": {},
   "source": [
    "### Computing statistics"
   ]
  },
  {
   "cell_type": "code",
   "execution_count": 3,
   "metadata": {},
   "outputs": [],
   "source": [
    "def get_contig_lengths(cov):\n",
    "    \"\"\"\n",
    "    Given a coverage profile, return an array\n",
    "    giving the list of all the contigs\n",
    "    \n",
    "    In this context a contig is defined as a contiguous\n",
    "    region of sequence with a coverage > 0X.\n",
    "    \n",
    "    Parameters\n",
    "        cov : array, int, shape (n_sites)\n",
    "            Coverage along the genome.\n",
    "            \n",
    "    Returns\n",
    "        ll : ndarray, int, shape(n_contigs)\n",
    "            An array containing the length of all\n",
    "            the contigs\n",
    "            \n",
    "    \"\"\"\n",
    "    \n",
    "    contigs = []\n",
    "    l = 0\n",
    "    for covered in cov > 0:\n",
    "        if covered:\n",
    "            l += 1\n",
    "        elif l > 0:\n",
    "            contigs.append(l)\n",
    "            l = 0\n",
    "    if l > 0: contigs.append(l)  # append last segment\n",
    "\n",
    "    return np.array(contigs)"
   ]
  },
  {
   "cell_type": "code",
   "execution_count": 4,
   "metadata": {},
   "outputs": [],
   "source": [
    "def calc_contig_n50(cov):\n",
    "    \"\"\"\n",
    "    Compute the N50 contig length\n",
    "    \n",
    "    Parameters\n",
    "        cov : array, int, shape (n_sites)\n",
    "            Coverage along the genome.\n",
    "            \n",
    "    Returns\n",
    "        _ : int\n",
    "            The N50 contig length; 50% of the total\n",
    "            contig length is contained in contigs\n",
    "            of this length or smaller.\n",
    "\n",
    "    \"\"\"\n",
    "    \n",
    "    contigs = get_contig_lengths(cov)\n",
    "    \n",
    "    if len(contigs) > 0:\n",
    "        contigs.sort()\n",
    "        total_contig = contigs.sum()\n",
    "        cum_contig_frac = (contigs / total_contig).cumsum()\n",
    "        ix = np.argmax(cum_contig_frac > 0.5)\n",
    "        \n",
    "    else:\n",
    "        return np.nan\n",
    "    \n",
    "    return contigs[ix]\n",
    "    "
   ]
  },
  {
   "cell_type": "code",
   "execution_count": 5,
   "metadata": {},
   "outputs": [],
   "source": [
    "def calc_gisaid_stats(df, depth_threshold=10):\n",
    "    \"\"\"\n",
    "    Calculate bioinformatics statistics required for \n",
    "    GISAD submission\n",
    "    \n",
    "    Parameters\n",
    "        df : DataFrame, shape (2, n_sites)\n",
    "            Pandas DataFrame containing two columns,\n",
    "            one for genomic position \"pos\" and one for\n",
    "            coverage \"cov\". Rows are consecutive\n",
    "            sites in the genome.\n",
    "        depth_threshold : int, optional\n",
    "            Used to calculate breadth.\n",
    "            \n",
    "    Returns\n",
    "        dt : dict\n",
    "            Dictionary containing all GISAID QC\n",
    "            statistics, excluding 'Ns per 100 kbp'\n",
    "            \n",
    "    \"\"\"\n",
    "    \n",
    "    # Reference genome length\n",
    "    genome_length = df[\"pos\"].max() - df[\"pos\"].min()\n",
    "    \n",
    "    # Consensus genome length\n",
    "    covered = df[\"cov\"] > 0\n",
    "    consensus_genome_length = df[covered][\"pos\"].max() - df[covered][\"pos\"].min() + 1\n",
    "    \n",
    "    # Total base pairs sequenced\n",
    "    # NB: this is post-mapping and depth truncation\n",
    "    number_base_pairs = df[\"cov\"].sum()\n",
    "    \n",
    "    # Sequence depth (average)\n",
    "    sequencing_depth_avg = number_base_pairs / genome_length\n",
    "    \n",
    "    # Coverage depth (average)\n",
    "    coverage_depth = number_base_pairs / consensus_genome_length\n",
    "    \n",
    "    # Assembly coverage breadth (as percentage)\n",
    "    coverage_breadth = 100 * (df[\"cov\"] >= depth_threshold).sum() / genome_length\n",
    "    \n",
    "    # Mean contig length\n",
    "    contigs = get_contig_lengths(df[\"cov\"])\n",
    "    mean_contig_length = contigs.mean()\n",
    "    \n",
    "    # N50 contig length\n",
    "    n50_contig_length = calc_contig_n50(df[\"cov\"])\n",
    "    \n",
    "    \n",
    "    # Package key statistics into a dictionary\n",
    "    dt = {\n",
    "        \"sequencing_depth_avg\": sequencing_depth_avg,\n",
    "        \"coverage_breadth\": coverage_breadth,\n",
    "        \"assembly_coverage_depth\": coverage_depth,\n",
    "        \"number_base_pairs\": number_base_pairs,\n",
    "        \"consensus_genome_length\": consensus_genome_length,\n",
    "        \"mean_contig_length\": mean_contig_length,\n",
    "        \"N50\": n50_contig_length\n",
    "    }\n",
    "    \n",
    "    return dt"
   ]
  },
  {
   "cell_type": "markdown",
   "metadata": {},
   "source": [
    "### Computing 'Ns per 100kbp'\n",
    "- Requires loading the consensus sequence"
   ]
  },
  {
   "cell_type": "code",
   "execution_count": 6,
   "metadata": {},
   "outputs": [],
   "source": [
    "def calc_ns_per_100kbp(consensus_fasta, verbose=True):\n",
    "    \"\"\"\n",
    "    Calculate the number of Ns per 100kbp from\n",
    "    a consensus FASTA\n",
    "    \n",
    "    Parameters\n",
    "        consensus_fasta : str\n",
    "            Path to the consensus fasta file.\n",
    "        verbose : bool\n",
    "            Switch for print diagnostics.\n",
    "    \n",
    "    Returns\n",
    "        ns_per_100kbp : float\n",
    "            The average number of Ns per 100kbp.\n",
    "    \n",
    "    \"\"\"\n",
    "    \n",
    "    # Open consensus fasta\n",
    "    with open(consensus_fasta, \"r\") as f:\n",
    "    \n",
    "        # Parse header\n",
    "        header = f.readline().strip()\n",
    "\n",
    "        # Parse sequence\n",
    "        seq = \"\"\n",
    "        for line in f:\n",
    "            seq += line.strip()\n",
    "\n",
    "        # Calculate statistics\n",
    "        seq_length = len(seq)\n",
    "\n",
    "    # Number of Ns\n",
    "    num_ns = sum([1 for c in seq if c == \"N\"])\n",
    "\n",
    "    # Ns per 100 kbp\n",
    "    ns_per_100kbp = num_ns / seq_length * 100 * 10 **3\n",
    "\n",
    "    if verbose:\n",
    "        print(\"FASTA name: %s\" % consensus_fasta)\n",
    "        print(\"Header: %s\" % header)\n",
    "        print(\"Sequence length (bp): %d\" % seq_length)\n",
    "        print(\"Number of Ns: %d\" % num_ns)\n",
    "        print(\"Ns per 100kbp: %.02f\" % ns_per_100kbp)\n",
    "        \n",
    "    return ns_per_100kbp"
   ]
  },
  {
   "cell_type": "markdown",
   "metadata": {},
   "source": [
    "## Example workflow"
   ]
  },
  {
   "cell_type": "code",
   "execution_count": 7,
   "metadata": {
    "scrolled": true
   },
   "outputs": [],
   "source": [
    "data_dir = \"../../data\"\n",
    "processed_dir = \"processed\"\n",
    "sample_dir = \"C01\"\n",
    "run_dir = \"29\""
   ]
  },
  {
   "cell_type": "code",
   "execution_count": 8,
   "metadata": {},
   "outputs": [],
   "source": [
    "data_path = os.path.join(data_dir,\n",
    "                         sample_dir,\n",
    "                         processed_dir,\n",
    "                         run_dir)"
   ]
  },
  {
   "cell_type": "code",
   "execution_count": 9,
   "metadata": {},
   "outputs": [
    {
     "data": {
      "text/plain": [
       "['29.muscle.out.fasta',\n",
       " '29.trimmed.rg.sorted.bam.bai',\n",
       " '29.pass.vcf.gz',\n",
       " '29.primertrimmed.rg.sorted.bam',\n",
       " '29.primertrimmed.rg.sorted.bam.bai',\n",
       " '29.fail.vcf',\n",
       " '29.alignreport.txt',\n",
       " '29.preconsensus.fasta',\n",
       " '29.coverage_mask.txt.nCoV-2019_1.depths',\n",
       " '29.sorted.bam.bai',\n",
       " '29.trimmed.rg.sorted.bam',\n",
       " '29.consensus.fasta',\n",
       " '29.coverage_mask.txt',\n",
       " '29-boxplot.png',\n",
       " '29.primers.vcf',\n",
       " '29.nCoV-2019_2.vcf',\n",
       " '29.coverage_mask.txt.nCoV-2019_2.depths',\n",
       " '29.nCoV-2019_1.vcf',\n",
       " '29.sorted.bam',\n",
       " '29.pass.vcf.gz.tbi',\n",
       " '29.muscle.in.fasta',\n",
       " '29.alignreport.er',\n",
       " '29.merged.vcf',\n",
       " '29.minion.log.txt',\n",
       " '29-barplot.png']"
      ]
     },
     "execution_count": 9,
     "metadata": {},
     "output_type": "execute_result"
    }
   ],
   "source": [
    "os.listdir(data_path)"
   ]
  },
  {
   "cell_type": "code",
   "execution_count": 10,
   "metadata": {},
   "outputs": [],
   "source": [
    "df = load_coverage_files(data_path)"
   ]
  },
  {
   "cell_type": "code",
   "execution_count": 11,
   "metadata": {},
   "outputs": [
    {
     "data": {
      "text/html": [
       "<div>\n",
       "<style scoped>\n",
       "    .dataframe tbody tr th:only-of-type {\n",
       "        vertical-align: middle;\n",
       "    }\n",
       "\n",
       "    .dataframe tbody tr th {\n",
       "        vertical-align: top;\n",
       "    }\n",
       "\n",
       "    .dataframe thead th {\n",
       "        text-align: right;\n",
       "    }\n",
       "</style>\n",
       "<table border=\"1\" class=\"dataframe\">\n",
       "  <thead>\n",
       "    <tr style=\"text-align: right;\">\n",
       "      <th></th>\n",
       "      <th>pos</th>\n",
       "      <th>cov</th>\n",
       "    </tr>\n",
       "  </thead>\n",
       "  <tbody>\n",
       "    <tr>\n",
       "      <th>0</th>\n",
       "      <td>0</td>\n",
       "      <td>0</td>\n",
       "    </tr>\n",
       "    <tr>\n",
       "      <th>1</th>\n",
       "      <td>1</td>\n",
       "      <td>0</td>\n",
       "    </tr>\n",
       "    <tr>\n",
       "      <th>2</th>\n",
       "      <td>2</td>\n",
       "      <td>0</td>\n",
       "    </tr>\n",
       "    <tr>\n",
       "      <th>3</th>\n",
       "      <td>3</td>\n",
       "      <td>0</td>\n",
       "    </tr>\n",
       "    <tr>\n",
       "      <th>4</th>\n",
       "      <td>4</td>\n",
       "      <td>0</td>\n",
       "    </tr>\n",
       "  </tbody>\n",
       "</table>\n",
       "</div>"
      ],
      "text/plain": [
       "   pos  cov\n",
       "0    0    0\n",
       "1    1    0\n",
       "2    2    0\n",
       "3    3    0\n",
       "4    4    0"
      ]
     },
     "execution_count": 11,
     "metadata": {},
     "output_type": "execute_result"
    }
   ],
   "source": [
    "df.head()"
   ]
  },
  {
   "cell_type": "code",
   "execution_count": 12,
   "metadata": {},
   "outputs": [
    {
     "data": {
      "text/plain": [
       "Text(0, 0.5, 'Coverage')"
      ]
     },
     "execution_count": 12,
     "metadata": {},
     "output_type": "execute_result"
    },
    {
     "data": {
      "image/png": "[encoded data removed]",
      "text/plain": [
       "<Figure size 600x400 with 1 Axes>"
      ]
     },
     "metadata": {
      "needs_background": "light"
     },
     "output_type": "display_data"
    }
   ],
   "source": [
    "fig, ax = plt.subplots(1, 1)\n",
    "\n",
    "ax.plot(df[\"pos\"], df[\"cov\"])\n",
    "ax.set_xlabel(\"Genomic position\")\n",
    "ax.set_ylabel(\"Coverage\")"
   ]
  },
  {
   "cell_type": "markdown",
   "metadata": {},
   "source": [
    "Looks correct. Notice thresholding at 400X coverage."
   ]
  },
  {
   "cell_type": "code",
   "execution_count": 13,
   "metadata": {},
   "outputs": [],
   "source": [
    "stats_dt = calc_gisaid_stats(df)"
   ]
  },
  {
   "cell_type": "code",
   "execution_count": 14,
   "metadata": {},
   "outputs": [
    {
     "name": "stdout",
     "output_type": "stream",
     "text": [
      "FASTA name: ../../data/C01/processed/29/29.consensus.fasta\n",
      "Header: >29/ARTIC/nanopolish MN908947.3\n",
      "Sequence length (bp): 29903\n",
      "Number of Ns: 717\n",
      "Ns per 100kbp: 2397.75\n"
     ]
    }
   ],
   "source": [
    "ns_per_100kbp = calc_ns_per_100kbp(os.path.join(data_path, \"29.consensus.fasta\"))"
   ]
  },
  {
   "cell_type": "code",
   "execution_count": 15,
   "metadata": {},
   "outputs": [],
   "source": [
    "stats_dt.update({\"ns_per_100kbp\": ns_per_100kbp})"
   ]
  },
  {
   "cell_type": "code",
   "execution_count": 16,
   "metadata": {},
   "outputs": [
    {
     "data": {
      "text/plain": [
       "{'sequencing_depth_avg': 388.01718948565315,\n",
       " 'coverage_breadth': 98.61213296769446,\n",
       " 'assembly_coverage_depth': 389.58061916593914,\n",
       " 'number_base_pairs': 11602490,\n",
       " 'consensus_genome_length': 29782,\n",
       " 'mean_contig_length': 29782.0,\n",
       " 'N50': 29782,\n",
       " 'ns_per_100kbp': 2397.7527338394143}"
      ]
     },
     "execution_count": 16,
     "metadata": {},
     "output_type": "execute_result"
    }
   ],
   "source": [
    "stats_dt"
   ]
  },
  {
   "cell_type": "markdown",
   "metadata": {},
   "source": [
    "Looks reasonable."
   ]
  },
  {
   "cell_type": "code",
   "execution_count": null,
   "metadata": {},
   "outputs": [],
   "source": []
  }
 ],
 "metadata": {
  "kernelspec": {
   "display_name": "Python 3",
   "language": "python",
   "name": "python3"
  },
  "language_info": {
   "codemirror_mode": {
    "name": "ipython",
    "version": 3
   },
   "file_extension": ".py",
   "mimetype": "text/x-python",
   "name": "python",
   "nbconvert_exporter": "python",
   "pygments_lexer": "ipython3",
   "version": "3.7.8"
  }
 },
 "nbformat": 4,
 "nbformat_minor": 4
}
