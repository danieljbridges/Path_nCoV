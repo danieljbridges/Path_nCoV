{
 "cells": [
  {
   "cell_type": "markdown",
   "id": "c168c547",
   "metadata": {},
   "source": [
    "This notebook attempts to compare whether multiple sequences for the same sample are substantially different by plotting as series of snipit views"
   ]
  },
  {
   "cell_type": "code",
   "execution_count": 1,
   "id": "615132eb",
   "metadata": {},
   "outputs": [],
   "source": [
    "import os\n",
    "import sys\n",
    "import pandas as pd\n",
    "import numpy as np\n",
    "import re"
   ]
  },
  {
   "cell_type": "code",
   "execution_count": 2,
   "id": "8f5099c6",
   "metadata": {},
   "outputs": [],
   "source": [
    "base_dir = os.path.expanduser(\"~/Dropbox/Zambia_nCoV/Data/Sequencing_Data\")\n",
    "seqdata_fn = \"allsequencedata.csv\"\n",
    "fasta_fn = \"allsequences.fasta\"\n",
    "fasta_filt_fn = \"current.fasta\""
   ]
  },
  {
   "cell_type": "code",
   "execution_count": 3,
   "id": "acd1dc74",
   "metadata": {},
   "outputs": [],
   "source": [
    "#Read in file\n",
    "seqsum_df = pd.read_csv(os.path.join(base_dir,seqdata_fn),sep=\"\\t\")\n",
    "#Add new column with a dash (makes sorting easier later on)\n",
    "seqsum_df['unique_mutations'] = \"-\"\n",
    "#seqsum_df = seqsum_df[['SampleID','SeqID','SeqRun','qc.overallScore','qc.overallStatus','deletions']]\n",
    "#Get list of sequences in C29\n",
    "duplist = seqsum_df['SampleID'][seqsum_df['SeqRun'].str.contains(\"C29\")].tolist()\n",
    "#Remove NTC\n",
    "duplist.remove('NTC') \n",
    "#Pull out all records in the df that match the list\n",
    "#duplist_df = seqsum_df[seqsum_df['SampleID'].isin(duplist)]"
   ]
  },
  {
   "cell_type": "code",
   "execution_count": 4,
   "id": "7caaff06",
   "metadata": {},
   "outputs": [],
   "source": [
    "#Change to base_dir for ease of programming\n",
    "os.chdir(base_dir)"
   ]
  },
  {
   "cell_type": "markdown",
   "id": "0908422b",
   "metadata": {},
   "source": [
    "# View outputs with snipit"
   ]
  },
  {
   "cell_type": "code",
   "execution_count": 343,
   "id": "dd9b76ff",
   "metadata": {},
   "outputs": [],
   "source": [
    "#Cycle through each entry to identify all duplicates and \n",
    "for s in sl:\n",
    "    cmd = \"rm snp_plot.png\"\n",
    "    os.system(cmd)\n",
    "    #pull out duplicates and important fields\n",
    "    dupes = seqsum_df['SeqID'][seqsum_df['SampleID'].str.contains(s)]\n",
    "    #output list to csv\n",
    "    dupes.to_csv(\"seqkit\", index = False, header = False)\n",
    "    #Grep the list to get a fasta file\n",
    "    cmd = \"seqkit grep -n -f seqkit allsequences.fasta -o current.fasta\"\n",
    "    os.system(cmd)\n",
    "    #Make an alignment\n",
    "    cmd = \"mafft current.fasta > current.aln.fasta\"\n",
    "    os.system(cmd)\n",
    "    #Make a snipit plot\n",
    "    cmd = \"snipit current.aln.fasta\"\n",
    "    os.system(cmd)\n",
    "    #Rename plot\n",
    "    cmd = \"mv snp_plot.png \" + s +\".png\"\n",
    "    os.system(cmd)"
   ]
  },
  {
   "cell_type": "markdown",
   "id": "7a8d6303",
   "metadata": {},
   "source": [
    "# Look for mutations in nextclade output"
   ]
  },
  {
   "cell_type": "code",
   "execution_count": 8,
   "id": "0c1751da",
   "metadata": {},
   "outputs": [],
   "source": [
    "mut_list = []\n",
    "uniques = []\n",
    "#Cycle through each entry to identify all duplicates and \n",
    "for dupes in duplist:\n",
    "    #print(\"Sample ID %s\" % dupes)\n",
    "    #pull out duplicates and important fields\n",
    "    duplicates_df = seqsum_df[['SampleID','SeqID','deletions','insertions','substitutions']][seqsum_df['SampleID'] == dupes]\n",
    "    #combine the mutation columns into one\n",
    "    duplicates_df['mutations'] = duplicates_df['deletions'] + \",\" + duplicates_df['substitutions']\n",
    "    #Make a list of all the SeqIDs\n",
    "    SeqID_list = duplicates_df['SeqID'].tolist()\n",
    "    \n",
    "    #Cycle through duplicates\n",
    "    for seqid in SeqID_list:\n",
    "        #Make a list of all the mutations in the target seq\n",
    "        target_list = duplicates_df['mutations'][duplicates_df['SeqID']==seqid].str.split(\",\",expand = True).iloc[0].tolist()\n",
    "        #Make a list of all the mutations in other runs\n",
    "        others_list = duplicates_df['mutations'][duplicates_df['SeqID']!=seqid].str.split(\",\",expand = True).iloc[0].tolist()\n",
    "        #Ensure that the list has only unique entries\n",
    "        others_list = list(set(others_list))\n",
    "        #Cycle through each mutation\n",
    "        for mut in target_list:\n",
    "            #Ensure that there is a record\n",
    "            if mut == mut:\n",
    "                #Only record if it is not found in the others_list\n",
    "                if mut not in others_list:\n",
    "                    #print(\"      %s is unique\" % mut)\n",
    "                    #Append each mutation to the list\n",
    "                    mut_list.append(mut)\n",
    "        \n",
    "        #If non zero string then add to df\n",
    "        if len(mut_list) == 0:\n",
    "            uniques = ['None']\n",
    "        #else:\n",
    "        #    print(\"   SeqID: %s\" % seqid)\n",
    "        #    print(\"      %d unique Mutations\" % len(mut_list))\n",
    "        \n",
    "        #convert list into a string\n",
    "        uniques = \",\".join(mut_list)\n",
    "        #Add uniquemutations back into the main df\n",
    "        seqsum_df.loc[seqsum_df['SeqID']== seqid, 'unique_mutations'] = uniques\n",
    "        #Reset mut_list\n",
    "        mut_list = []\n",
    "        uniques = []"
   ]
  },
  {
   "cell_type": "markdown",
   "id": "5e1d69e7",
   "metadata": {},
   "source": [
    "# View with seqkit"
   ]
  },
  {
   "cell_type": "code",
   "execution_count": 11,
   "id": "ee65b9e4",
   "metadata": {},
   "outputs": [
    {
     "name": "stdout",
     "output_type": "stream",
     "text": [
      "SampleID: 97968\n",
      "   C7124T\n",
      ">97968\n",
      "t\n",
      ">97968_P33\n",
      "n\n",
      "   A11332G\n",
      ">97968\n",
      "g\n",
      ">97968_P33\n",
      "n\n",
      "\n",
      "   28274\n",
      ">97968\n",
      "g\n",
      ">97968_P33\n",
      "g\n",
      "   C6402T\n",
      ">97968\n",
      "n\n",
      ">97968_P33\n",
      "t\n",
      "\n",
      "\n"
     ]
    }
   ],
   "source": [
    "count = 0\n",
    "#Get a unique list of all sample IDs with unique mutations\n",
    "SampleIDs = list(set(seqsum_df['SampleID'][seqsum_df['unique_mutations']!=\"-\"].to_list()))\n",
    "#Crete data frame with all sample info\n",
    "for SampleID in SampleIDs:\n",
    "    print(\"SampleID: %s\" % SampleID)\n",
    "    #Extract all SeqIDs associated with that sample\n",
    "    samples_df = seqsum_df[['SampleID','SeqID','unique_mutations']][seqsum_df['SampleID']==SampleID]\n",
    "    #Make a list of all SeqIDs\n",
    "    seqids = samples_df['SeqID']\n",
    "    #output list to csv for making a fasta\n",
    "    seqids.to_csv(\"seqkit\", index = False, header = False)\n",
    "    #Grep the list to get a fasta file\n",
    "    cmd = \"seqkit grep -n -f seqkit allsequences.fasta -o current.fasta\"\n",
    "    os.system(cmd)\n",
    "    #Make an alignment\n",
    "    cmd = \"mafft current.fasta > current.aln.fasta\"\n",
    "    os.system(cmd)\n",
    "    for seq in seqids:\n",
    "        muts = samples_df['unique_mutations'][samples_df['SeqID'] == seq].str.split(\",\",expand = True).iloc[0].tolist()\n",
    "        for mut in muts:\n",
    "            if mut != \"\":\n",
    "                #Remove any letters from the mutation\n",
    "                print(\"   %s\" % mut)\n",
    "                mut = re.sub(\"A|C|G|T\", \"\", mut)\n",
    "                if \"-\" in mut:\n",
    "                    #Take the start of the range\n",
    "                    start = mut.split(sep=\"-\")[0]\n",
    "                    finish = mut.split(sep=\"-\")[1]\n",
    "                else:\n",
    "                    start = str(int(mut) - 0)\n",
    "                    finish = str(int(mut) + 0)\n",
    "                cmd = \"seqkit subseq -r \" + start + \":\" + finish + \" current.aln.fasta\"\n",
    "                !{cmd}\n",
    "        print(\"\")\n",
    "    print(\"\")\n",
    "    count += 1\n",
    "    if count > 0:\n",
    "        break\n"
   ]
  },
  {
   "cell_type": "code",
   "execution_count": null,
   "id": "b4b72431",
   "metadata": {},
   "outputs": [],
   "source": []
  }
 ],
 "metadata": {
  "kernelspec": {
   "display_name": "Python 3",
   "language": "python",
   "name": "python3"
  },
  "language_info": {
   "codemirror_mode": {
    "name": "ipython",
    "version": 3
   },
   "file_extension": ".py",
   "mimetype": "text/x-python",
   "name": "python",
   "nbconvert_exporter": "python",
   "pygments_lexer": "ipython3",
   "version": "3.7.8"
  }
 },
 "nbformat": 4,
 "nbformat_minor": 5
}
